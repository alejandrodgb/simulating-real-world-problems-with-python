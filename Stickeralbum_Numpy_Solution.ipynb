{
 "cells": [
  {
   "cell_type": "markdown",
   "metadata": {},
   "source": [
    "# The Sticker Album Challange (Part 2)\n",
    "\n",
    "## Boosting Performance with vectorized NumPy code\n"
   ]
  },
  {
   "cell_type": "code",
   "execution_count": 1,
   "metadata": {},
   "outputs": [],
   "source": [
    "import numpy as np\n",
    "import matplotlib.pyplot as plt\n",
    "plt.style.use(\"seaborn\")\n",
    "%matplotlib inline "
   ]
  },
  {
   "cell_type": "markdown",
   "metadata": {},
   "source": [
    "## 1. Getting startet...one simulation"
   ]
  },
  {
   "cell_type": "markdown",
   "metadata": {},
   "source": [
    " ### 1.1 Toy example"
   ]
  },
  {
   "cell_type": "code",
   "execution_count": 2,
   "metadata": {},
   "outputs": [],
   "source": [
    "dice_pages = 6\n",
    "throws = 6"
   ]
  },
  {
   "cell_type": "code",
   "execution_count": 3,
   "metadata": {
    "scrolled": true
   },
   "outputs": [
    {
     "data": {
      "text/plain": [
       "array([4, 5, 3, 5, 5, 2])"
      ]
     },
     "execution_count": 3,
     "metadata": {},
     "output_type": "execute_result"
    }
   ],
   "source": [
    "np.random.seed(42)\n",
    "v = np.random.randint(1,dice_pages+1,throws)\n",
    "v"
   ]
  },
  {
   "cell_type": "markdown",
   "metadata": {},
   "source": [
    "#### Solution with np.unique()"
   ]
  },
  {
   "cell_type": "code",
   "execution_count": 4,
   "metadata": {},
   "outputs": [
    {
     "data": {
      "text/plain": [
       "array([2, 3, 4, 5])"
      ]
     },
     "execution_count": 4,
     "metadata": {},
     "output_type": "execute_result"
    }
   ],
   "source": [
    "np.unique(v)"
   ]
  },
  {
   "cell_type": "code",
   "execution_count": 5,
   "metadata": {},
   "outputs": [
    {
     "data": {
      "text/plain": [
       "4"
      ]
     },
     "execution_count": 5,
     "metadata": {},
     "output_type": "execute_result"
    }
   ],
   "source": [
    "unique = len(np.unique(v))\n",
    "unique"
   ]
  },
  {
   "cell_type": "code",
   "execution_count": 6,
   "metadata": {},
   "outputs": [
    {
     "data": {
      "text/plain": [
       "array([[4, 5, 3, 5, 5, 2],\n",
       "       [3, 3, 3, 5, 4, 3],\n",
       "       [6, 5, 2, 4, 6, 6],\n",
       "       [2, 4, 5, 1, 4, 2],\n",
       "       [6, 5, 4, 1, 1, 3],\n",
       "       [3, 2, 4, 4, 6, 6],\n",
       "       [6, 3, 4, 4, 1, 3],\n",
       "       [5, 3, 5, 1, 2, 4],\n",
       "       [1, 4, 6, 2, 2, 1],\n",
       "       [2, 5, 2, 4, 4, 4]])"
      ]
     },
     "execution_count": 6,
     "metadata": {},
     "output_type": "execute_result"
    }
   ],
   "source": [
    "np.random.seed(42)\n",
    "m = np.random.randint(1,dice_pages+1,10*throws).reshape(10,6)\n",
    "m"
   ]
  },
  {
   "cell_type": "code",
   "execution_count": 7,
   "metadata": {},
   "outputs": [
    {
     "data": {
      "text/plain": [
       "array([1, 2, 3, 4, 5, 6])"
      ]
     },
     "execution_count": 7,
     "metadata": {},
     "output_type": "execute_result"
    }
   ],
   "source": [
    "np.unique(m)"
   ]
  },
  {
   "cell_type": "markdown",
   "metadata": {},
   "source": [
    "#### Alternative Solution - 1 Dimension (One Simulation)"
   ]
  },
  {
   "cell_type": "code",
   "execution_count": 8,
   "metadata": {},
   "outputs": [],
   "source": [
    "np.random.seed(42)\n",
    "v = np.random.randint(1,dice_pages+1,throws)\n",
    "v = np.sort(v)"
   ]
  },
  {
   "cell_type": "code",
   "execution_count": 9,
   "metadata": {},
   "outputs": [
    {
     "data": {
      "text/plain": [
       "array([2, 3, 4, 5, 5, 5])"
      ]
     },
     "execution_count": 9,
     "metadata": {},
     "output_type": "execute_result"
    }
   ],
   "source": [
    "v"
   ]
  },
  {
   "cell_type": "code",
   "execution_count": 10,
   "metadata": {},
   "outputs": [
    {
     "data": {
      "text/plain": [
       "array([3, 4, 5, 5, 5])"
      ]
     },
     "execution_count": 10,
     "metadata": {},
     "output_type": "execute_result"
    }
   ],
   "source": [
    "v[1:]"
   ]
  },
  {
   "cell_type": "code",
   "execution_count": 11,
   "metadata": {},
   "outputs": [
    {
     "data": {
      "text/plain": [
       "array([2, 3, 4, 5, 5])"
      ]
     },
     "execution_count": 11,
     "metadata": {},
     "output_type": "execute_result"
    }
   ],
   "source": [
    "v[:-1]"
   ]
  },
  {
   "cell_type": "code",
   "execution_count": 12,
   "metadata": {},
   "outputs": [
    {
     "data": {
      "text/plain": [
       "array([ True,  True,  True, False, False])"
      ]
     },
     "execution_count": 12,
     "metadata": {},
     "output_type": "execute_result"
    }
   ],
   "source": [
    "(v[1:] != v[:-1])"
   ]
  },
  {
   "cell_type": "code",
   "execution_count": 13,
   "metadata": {},
   "outputs": [
    {
     "data": {
      "text/plain": [
       "4"
      ]
     },
     "execution_count": 13,
     "metadata": {},
     "output_type": "execute_result"
    }
   ],
   "source": [
    "unique = np.sum((v[1:] != v[:-1]))+1\n",
    "unique"
   ]
  },
  {
   "cell_type": "code",
   "execution_count": 14,
   "metadata": {},
   "outputs": [
    {
     "data": {
      "text/plain": [
       "array([2, 3, 3, 3, 3, 3, 4, 4, 5, 5, 5, 5])"
      ]
     },
     "execution_count": 14,
     "metadata": {},
     "output_type": "execute_result"
    }
   ],
   "source": [
    "np.random.seed(42)\n",
    "v = np.random.randint(1,dice_pages+1,12)\n",
    "v = np.sort(v)\n",
    "v"
   ]
  },
  {
   "cell_type": "code",
   "execution_count": 15,
   "metadata": {},
   "outputs": [
    {
     "data": {
      "text/plain": [
       "array([3, 3, 3, 3, 3, 4, 4, 5, 5, 5, 5])"
      ]
     },
     "execution_count": 15,
     "metadata": {},
     "output_type": "execute_result"
    }
   ],
   "source": [
    "v[1:]"
   ]
  },
  {
   "cell_type": "code",
   "execution_count": 16,
   "metadata": {},
   "outputs": [
    {
     "data": {
      "text/plain": [
       "array([2, 3, 3, 3, 3, 3, 4, 4, 5, 5, 5])"
      ]
     },
     "execution_count": 16,
     "metadata": {},
     "output_type": "execute_result"
    }
   ],
   "source": [
    "v[:-1]"
   ]
  },
  {
   "cell_type": "code",
   "execution_count": 17,
   "metadata": {},
   "outputs": [
    {
     "data": {
      "text/plain": [
       "array([ True, False, False, False, False,  True, False,  True, False,\n",
       "       False, False])"
      ]
     },
     "execution_count": 17,
     "metadata": {},
     "output_type": "execute_result"
    }
   ],
   "source": [
    "(v[1:] != v[:-1])"
   ]
  },
  {
   "cell_type": "code",
   "execution_count": 18,
   "metadata": {},
   "outputs": [
    {
     "data": {
      "text/plain": [
       "4"
      ]
     },
     "execution_count": 18,
     "metadata": {},
     "output_type": "execute_result"
    }
   ],
   "source": [
    "unique = np.sum((v[1:] != v[:-1]))+1\n",
    "unique"
   ]
  },
  {
   "cell_type": "markdown",
   "metadata": {},
   "source": [
    "### 1.2 Sticker Album Challange"
   ]
  },
  {
   "cell_type": "code",
   "execution_count": 19,
   "metadata": {},
   "outputs": [],
   "source": [
    "album_capacity = 600\n",
    "purchased_stickers = 800\n",
    "seed = 123"
   ]
  },
  {
   "cell_type": "code",
   "execution_count": 20,
   "metadata": {},
   "outputs": [
    {
     "data": {
      "text/plain": [
       "(800,)"
      ]
     },
     "execution_count": 20,
     "metadata": {},
     "output_type": "execute_result"
    }
   ],
   "source": [
    "np.random.seed(seed)\n",
    "v = np.random.randint(1,album_capacity+1,purchased_stickers)\n",
    "v.shape"
   ]
  },
  {
   "cell_type": "code",
   "execution_count": 21,
   "metadata": {
    "scrolled": true
   },
   "outputs": [
    {
     "data": {
      "text/plain": [
       "array([  1,   1,   2,   2,   3,   4,   4,   5,   7,   7,   7,   9,   9,\n",
       "         9,  11,  11,  11,  12,  13,  15,  15,  15,  15,  15,  17,  17,\n",
       "        17,  17,  18,  18,  18,  18,  20,  21,  22,  23,  23,  23,  24,\n",
       "        24,  25,  26,  27,  28,  28,  30,  30,  30,  31,  33,  33,  33,\n",
       "        33,  35,  38,  38,  39,  39,  40,  40,  40,  42,  45,  47,  47,\n",
       "        48,  48,  50,  50,  50,  52,  53,  54,  55,  57,  57,  58,  59,\n",
       "        60,  61,  61,  61,  62,  63,  63,  64,  64,  65,  65,  66,  68,\n",
       "        69,  70,  71,  71,  72,  72,  72,  74,  74,  75,  76,  77,  77,\n",
       "        78,  78,  80,  81,  82,  82,  83,  83,  84,  87,  88,  88,  89,\n",
       "        89,  90,  90,  91,  92,  93,  93,  93,  94,  94,  95,  95,  97,\n",
       "        99, 100, 100, 100, 101, 101, 102, 102, 105, 106, 107, 107, 107,\n",
       "       107, 108, 109, 110, 112, 112, 112, 112, 113, 113, 113, 114, 114,\n",
       "       114, 115, 116, 116, 117, 118, 119, 122, 123, 123, 124, 124, 126,\n",
       "       126, 127, 127, 127, 127, 127, 128, 128, 129, 130, 131, 133, 134,\n",
       "       134, 134, 136, 136, 136, 137, 138, 138, 140, 140, 141, 142, 143,\n",
       "       144, 145, 145, 145, 147, 147, 147, 149, 150, 152, 152, 153, 153,\n",
       "       154, 154, 155, 159, 159, 159, 160, 160, 161, 161, 163, 165, 166,\n",
       "       166, 166, 167, 169, 169, 169, 171, 174, 174, 175, 175, 176, 176,\n",
       "       177, 180, 180, 180, 181, 181, 181, 181, 182, 184, 187, 187, 188,\n",
       "       188, 190, 191, 192, 192, 192, 193, 194, 195, 195, 196, 198, 198,\n",
       "       199, 199, 200, 200, 200, 202, 202, 203, 206, 206, 207, 207, 208,\n",
       "       208, 209, 209, 212, 212, 214, 214, 215, 215, 215, 215, 216, 216,\n",
       "       217, 218, 218, 219, 220, 220, 220, 221, 221, 223, 223, 223, 224,\n",
       "       224, 224, 225, 225, 225, 226, 226, 228, 231, 232, 232, 232, 233,\n",
       "       234, 234, 235, 235, 235, 237, 238, 239, 239, 239, 239, 240, 242,\n",
       "       242, 242, 243, 244, 245, 248, 248, 249, 249, 252, 254, 254, 254,\n",
       "       255, 256, 257, 258, 259, 260, 260, 260, 260, 263, 265, 265, 266,\n",
       "       269, 270, 270, 272, 272, 273, 274, 277, 278, 278, 282, 282, 282,\n",
       "       282, 284, 284, 285, 285, 285, 286, 287, 287, 287, 288, 288, 289,\n",
       "       289, 291, 291, 291, 292, 293, 294, 294, 294, 294, 294, 296, 296,\n",
       "       296, 297, 298, 299, 299, 302, 302, 302, 303, 305, 306, 306, 306,\n",
       "       312, 313, 313, 316, 316, 316, 320, 322, 322, 322, 323, 323, 323,\n",
       "       324, 324, 325, 325, 325, 326, 327, 330, 331, 331, 332, 332, 334,\n",
       "       334, 334, 335, 336, 336, 338, 338, 339, 340, 340, 341, 341, 341,\n",
       "       341, 342, 342, 343, 343, 344, 345, 346, 348, 350, 351, 354, 354,\n",
       "       355, 355, 355, 356, 356, 358, 358, 358, 359, 359, 359, 360, 360,\n",
       "       360, 361, 361, 362, 362, 364, 365, 365, 366, 366, 366, 366, 367,\n",
       "       367, 369, 370, 371, 372, 372, 373, 375, 378, 378, 378, 378, 378,\n",
       "       379, 380, 380, 381, 383, 383, 383, 384, 386, 386, 387, 387, 388,\n",
       "       390, 391, 391, 392, 394, 394, 394, 395, 396, 398, 398, 399, 401,\n",
       "       401, 402, 402, 402, 402, 403, 404, 404, 404, 405, 405, 406, 406,\n",
       "       406, 408, 408, 408, 410, 410, 411, 411, 412, 412, 413, 414, 414,\n",
       "       415, 415, 416, 417, 419, 420, 420, 420, 420, 420, 421, 421, 423,\n",
       "       424, 424, 425, 426, 426, 427, 429, 431, 431, 431, 433, 433, 434,\n",
       "       435, 435, 435, 436, 437, 437, 439, 439, 439, 440, 441, 442, 442,\n",
       "       442, 443, 443, 443, 443, 443, 444, 446, 447, 447, 448, 451, 451,\n",
       "       452, 452, 455, 455, 455, 456, 456, 460, 461, 461, 462, 463, 464,\n",
       "       465, 465, 466, 466, 466, 467, 468, 468, 468, 468, 468, 469, 470,\n",
       "       471, 471, 472, 472, 473, 474, 474, 475, 475, 476, 478, 479, 480,\n",
       "       481, 481, 481, 482, 483, 484, 485, 485, 485, 486, 487, 488, 489,\n",
       "       490, 490, 490, 491, 491, 493, 494, 494, 494, 494, 494, 495, 496,\n",
       "       496, 497, 497, 497, 498, 499, 501, 502, 503, 504, 505, 506, 507,\n",
       "       507, 508, 508, 509, 510, 510, 511, 511, 511, 514, 514, 515, 516,\n",
       "       516, 516, 516, 517, 519, 520, 520, 520, 521, 521, 522, 523, 527,\n",
       "       527, 527, 528, 528, 529, 531, 531, 531, 532, 532, 533, 534, 534,\n",
       "       534, 535, 535, 536, 536, 537, 538, 539, 539, 540, 540, 541, 541,\n",
       "       541, 542, 543, 545, 545, 545, 546, 546, 546, 549, 550, 551, 552,\n",
       "       552, 552, 552, 552, 553, 553, 553, 555, 556, 558, 558, 558, 560,\n",
       "       560, 561, 562, 563, 564, 565, 566, 568, 568, 570, 571, 571, 572,\n",
       "       573, 574, 574, 575, 576, 576, 577, 578, 578, 579, 579, 580, 582,\n",
       "       582, 583, 584, 584, 584, 584, 585, 589, 590, 590, 591, 593, 593,\n",
       "       594, 594, 596, 596, 597, 597, 597])"
      ]
     },
     "execution_count": 21,
     "metadata": {},
     "output_type": "execute_result"
    }
   ],
   "source": [
    "v = np.sort(v)\n",
    "v"
   ]
  },
  {
   "cell_type": "code",
   "execution_count": 22,
   "metadata": {},
   "outputs": [
    {
     "data": {
      "text/plain": [
       "439"
      ]
     },
     "execution_count": 22,
     "metadata": {},
     "output_type": "execute_result"
    }
   ],
   "source": [
    "unique = np.sum((v[1:] != v[:-1]))+1\n",
    "unique"
   ]
  },
  {
   "cell_type": "code",
   "execution_count": 23,
   "metadata": {},
   "outputs": [
    {
     "data": {
      "text/plain": [
       "439"
      ]
     },
     "execution_count": 23,
     "metadata": {},
     "output_type": "execute_result"
    }
   ],
   "source": [
    "len(set(v))"
   ]
  },
  {
   "cell_type": "markdown",
   "metadata": {
    "collapsed": true
   },
   "source": [
    "## 2. Many Simulations"
   ]
  },
  {
   "cell_type": "markdown",
   "metadata": {},
   "source": [
    "### 2.1 Toy example"
   ]
  },
  {
   "cell_type": "code",
   "execution_count": 24,
   "metadata": {},
   "outputs": [],
   "source": [
    "import numpy as np"
   ]
  },
  {
   "cell_type": "code",
   "execution_count": 25,
   "metadata": {},
   "outputs": [],
   "source": [
    "dice_pages = 6\n",
    "throws = 6\n",
    "sims = 10\n",
    "seed = 42"
   ]
  },
  {
   "cell_type": "code",
   "execution_count": 26,
   "metadata": {},
   "outputs": [
    {
     "data": {
      "text/plain": [
       "array([[4, 5, 3, 5, 5, 2],\n",
       "       [3, 3, 3, 5, 4, 3],\n",
       "       [6, 5, 2, 4, 6, 6],\n",
       "       [2, 4, 5, 1, 4, 2],\n",
       "       [6, 5, 4, 1, 1, 3],\n",
       "       [3, 2, 4, 4, 6, 6],\n",
       "       [6, 3, 4, 4, 1, 3],\n",
       "       [5, 3, 5, 1, 2, 4],\n",
       "       [1, 4, 6, 2, 2, 1],\n",
       "       [2, 5, 2, 4, 4, 4]])"
      ]
     },
     "execution_count": 26,
     "metadata": {},
     "output_type": "execute_result"
    }
   ],
   "source": [
    "np.random.seed(seed)\n",
    "m = np.random.randint(1,dice_pages+1,sims*throws).reshape(sims,throws)\n",
    "m"
   ]
  },
  {
   "cell_type": "code",
   "execution_count": 27,
   "metadata": {},
   "outputs": [
    {
     "data": {
      "text/plain": [
       "array([[2, 3, 4, 5, 5, 5],\n",
       "       [3, 3, 3, 3, 4, 5],\n",
       "       [2, 4, 5, 6, 6, 6],\n",
       "       [1, 2, 2, 4, 4, 5],\n",
       "       [1, 1, 3, 4, 5, 6],\n",
       "       [2, 3, 4, 4, 6, 6],\n",
       "       [1, 3, 3, 4, 4, 6],\n",
       "       [1, 2, 3, 4, 5, 5],\n",
       "       [1, 1, 2, 2, 4, 6],\n",
       "       [2, 2, 4, 4, 4, 5]])"
      ]
     },
     "execution_count": 27,
     "metadata": {},
     "output_type": "execute_result"
    }
   ],
   "source": [
    "m = np.sort(m, axis = 1)\n",
    "m"
   ]
  },
  {
   "cell_type": "code",
   "execution_count": 28,
   "metadata": {},
   "outputs": [
    {
     "data": {
      "text/plain": [
       "array([[3, 4, 5, 5, 5],\n",
       "       [3, 3, 3, 4, 5],\n",
       "       [4, 5, 6, 6, 6],\n",
       "       [2, 2, 4, 4, 5],\n",
       "       [1, 3, 4, 5, 6],\n",
       "       [3, 4, 4, 6, 6],\n",
       "       [3, 3, 4, 4, 6],\n",
       "       [2, 3, 4, 5, 5],\n",
       "       [1, 2, 2, 4, 6],\n",
       "       [2, 4, 4, 4, 5]])"
      ]
     },
     "execution_count": 28,
     "metadata": {},
     "output_type": "execute_result"
    }
   ],
   "source": [
    "m[:,1:]"
   ]
  },
  {
   "cell_type": "code",
   "execution_count": 29,
   "metadata": {},
   "outputs": [
    {
     "data": {
      "text/plain": [
       "array([[2, 3, 4, 5, 5],\n",
       "       [3, 3, 3, 3, 4],\n",
       "       [2, 4, 5, 6, 6],\n",
       "       [1, 2, 2, 4, 4],\n",
       "       [1, 1, 3, 4, 5],\n",
       "       [2, 3, 4, 4, 6],\n",
       "       [1, 3, 3, 4, 4],\n",
       "       [1, 2, 3, 4, 5],\n",
       "       [1, 1, 2, 2, 4],\n",
       "       [2, 2, 4, 4, 4]])"
      ]
     },
     "execution_count": 29,
     "metadata": {},
     "output_type": "execute_result"
    }
   ],
   "source": [
    "m[:,:-1]"
   ]
  },
  {
   "cell_type": "code",
   "execution_count": 30,
   "metadata": {},
   "outputs": [
    {
     "data": {
      "text/plain": [
       "array([[ True,  True,  True, False, False],\n",
       "       [False, False, False,  True,  True],\n",
       "       [ True,  True,  True, False, False],\n",
       "       [ True, False,  True, False,  True],\n",
       "       [False,  True,  True,  True,  True],\n",
       "       [ True,  True, False,  True, False],\n",
       "       [ True, False,  True, False,  True],\n",
       "       [ True,  True,  True,  True, False],\n",
       "       [False,  True, False,  True,  True],\n",
       "       [False,  True, False, False,  True]])"
      ]
     },
     "execution_count": 30,
     "metadata": {},
     "output_type": "execute_result"
    }
   ],
   "source": [
    "m[:,1:] != m[:,:-1]"
   ]
  },
  {
   "cell_type": "code",
   "execution_count": 31,
   "metadata": {},
   "outputs": [
    {
     "data": {
      "text/plain": [
       "array([4, 3, 4, 4, 5, 4, 4, 5, 4, 3])"
      ]
     },
     "execution_count": 31,
     "metadata": {},
     "output_type": "execute_result"
    }
   ],
   "source": [
    "np.sum(m[:,1:] != m[:,:-1], axis = 1) +1 "
   ]
  },
  {
   "cell_type": "markdown",
   "metadata": {},
   "source": [
    "### 2.2 Sticker Album Challange"
   ]
  },
  {
   "cell_type": "code",
   "execution_count": 32,
   "metadata": {},
   "outputs": [],
   "source": [
    "album_capacity = 600\n",
    "purchased_stickers = 800\n",
    "seed = 123\n",
    "sims = 10000"
   ]
  },
  {
   "cell_type": "code",
   "execution_count": 33,
   "metadata": {},
   "outputs": [],
   "source": [
    "np.random.seed(seed)\n",
    "m = np.random.randint(1,album_capacity+1,sims*purchased_stickers).reshape(sims,purchased_stickers)\n",
    "m = np.sort(m, axis = 1)"
   ]
  },
  {
   "cell_type": "code",
   "execution_count": 34,
   "metadata": {},
   "outputs": [
    {
     "data": {
      "text/plain": [
       "(10000, 800)"
      ]
     },
     "execution_count": 34,
     "metadata": {},
     "output_type": "execute_result"
    }
   ],
   "source": [
    "m.shape"
   ]
  },
  {
   "cell_type": "code",
   "execution_count": 35,
   "metadata": {},
   "outputs": [
    {
     "data": {
      "text/plain": [
       "array([439, 444, 444, ..., 446, 446, 434])"
      ]
     },
     "execution_count": 35,
     "metadata": {},
     "output_type": "execute_result"
    }
   ],
   "source": [
    "results = np.sum(m[:,1:] != m[:,:-1], axis = 1) +1 \n",
    "results"
   ]
  },
  {
   "cell_type": "markdown",
   "metadata": {
    "collapsed": true
   },
   "source": [
    "## 3. Analyzing results and calculating statistics\n"
   ]
  },
  {
   "cell_type": "markdown",
   "metadata": {
    "collapsed": true
   },
   "source": [
    "#### Min"
   ]
  },
  {
   "cell_type": "code",
   "execution_count": 36,
   "metadata": {},
   "outputs": [
    {
     "data": {
      "text/plain": [
       "406"
      ]
     },
     "execution_count": 36,
     "metadata": {},
     "output_type": "execute_result"
    }
   ],
   "source": [
    "Min = np.min((results))\n",
    "Min"
   ]
  },
  {
   "cell_type": "markdown",
   "metadata": {
    "collapsed": true
   },
   "source": [
    "#### Max"
   ]
  },
  {
   "cell_type": "code",
   "execution_count": 37,
   "metadata": {},
   "outputs": [
    {
     "data": {
      "text/plain": [
       "471"
      ]
     },
     "execution_count": 37,
     "metadata": {},
     "output_type": "execute_result"
    }
   ],
   "source": [
    "Max = np.max(results)\n",
    "Max"
   ]
  },
  {
   "cell_type": "markdown",
   "metadata": {},
   "source": [
    "#### Mean"
   ]
  },
  {
   "cell_type": "code",
   "execution_count": 38,
   "metadata": {},
   "outputs": [
    {
     "data": {
      "text/plain": [
       "441.9878"
      ]
     },
     "execution_count": 38,
     "metadata": {},
     "output_type": "execute_result"
    }
   ],
   "source": [
    "Mean = np.mean(results)\n",
    "Mean"
   ]
  },
  {
   "cell_type": "markdown",
   "metadata": {},
   "source": [
    "#### Median"
   ]
  },
  {
   "cell_type": "code",
   "execution_count": 39,
   "metadata": {},
   "outputs": [
    {
     "data": {
      "text/plain": [
       "442.0"
      ]
     },
     "execution_count": 39,
     "metadata": {},
     "output_type": "execute_result"
    }
   ],
   "source": [
    "Median = np.median(results)\n",
    "Median"
   ]
  },
  {
   "cell_type": "markdown",
   "metadata": {},
   "source": [
    "#### Percentiles"
   ]
  },
  {
   "cell_type": "code",
   "execution_count": 40,
   "metadata": {},
   "outputs": [
    {
     "data": {
      "text/plain": [
       "429.0"
      ]
     },
     "execution_count": 40,
     "metadata": {},
     "output_type": "execute_result"
    }
   ],
   "source": [
    "percentile = 5\n",
    "np.percentile(results,percentile)"
   ]
  },
  {
   "cell_type": "markdown",
   "metadata": {},
   "source": [
    "#### Prediction Intervals"
   ]
  },
  {
   "cell_type": "code",
   "execution_count": 41,
   "metadata": {},
   "outputs": [
    {
     "data": {
      "text/plain": [
       "array([429., 455.])"
      ]
     },
     "execution_count": 41,
     "metadata": {},
     "output_type": "execute_result"
    }
   ],
   "source": [
    "interval = [5,95]\n",
    "pred_int = np.percentile(results, interval)\n",
    "pred_int"
   ]
  },
  {
   "cell_type": "markdown",
   "metadata": {},
   "source": [
    "#### Visualization"
   ]
  },
  {
   "cell_type": "code",
   "execution_count": 42,
   "metadata": {},
   "outputs": [],
   "source": [
    "import matplotlib.pyplot as plt\n",
    "import seaborn as sns\n",
    "%matplotlib inline\n",
    "plt.style.use(\"seaborn\")"
   ]
  },
  {
   "cell_type": "code",
   "execution_count": 43,
   "metadata": {},
   "outputs": [
    {
     "data": {
      "image/png": "[encoded data removed]",
      "text/plain": [
       "<Figure size 720x432 with 1 Axes>"
      ]
     },
     "metadata": {},
     "output_type": "display_data"
    }
   ],
   "source": [
    "plt.figure(figsize = (10,6))\n",
    "plt.hist(results, bins = (Max-Min+1), alpha = 0.5, label = \"Frequency Distribution\")\n",
    "plt.vlines(pred_int[0], 0, 500, colors = \"r\", linestyles=\"dashdot\", label = \"5th percentile\")\n",
    "plt.vlines(Median, 0, 500, colors = \"b\", linestyles=\"dashdot\", label = \"Median\")\n",
    "plt.vlines(pred_int[1], 0, 500,colors = \"g\", linestyles=\"dashdot\", label = \"95th percentile\")\n",
    "plt.xlabel(\"Number of Unique Stickers\")\n",
    "plt.ylabel(\"No. of Occurences (10,000 Simulations)\")\n",
    "plt.title(\"Frequency Distribution with {} Purchased Stickers\".format(purchased_stickers), fontsize = 15)\n",
    "plt.legend(loc = 6, fontsize = 13)\n",
    "plt.show()"
   ]
  },
  {
   "cell_type": "markdown",
   "metadata": {},
   "source": [
    "## 4. Automation by writing a Function\n"
   ]
  },
  {
   "cell_type": "code",
   "execution_count": 44,
   "metadata": {},
   "outputs": [],
   "source": [
    "import numpy as np"
   ]
  },
  {
   "cell_type": "code",
   "execution_count": 45,
   "metadata": {},
   "outputs": [],
   "source": [
    "def StickerAlbum_NP(album_capacity = 600, purchased_stickers = 800, sims = 1000, seed = 123):\n",
    "    np.random.seed(seed)\n",
    "    m = np.random.randint(1,album_capacity+1,sims*purchased_stickers).reshape(sims,purchased_stickers)\n",
    "    m.sort(axis = 1)\n",
    "    results = np.sum(m[:,1:] != m[:,:-1], axis = 1)+1\n",
    "    mean= np.mean(results)\n",
    "    return mean"
   ]
  },
  {
   "cell_type": "code",
   "execution_count": 46,
   "metadata": {},
   "outputs": [
    {
     "data": {
      "text/plain": [
       "550.174"
      ]
     },
     "execution_count": 46,
     "metadata": {},
     "output_type": "execute_result"
    }
   ],
   "source": [
    "StickerAlbum_NP(purchased_stickers=1491)"
   ]
  },
  {
   "cell_type": "markdown",
   "metadata": {},
   "source": [
    "## 5. Speed Comparison"
   ]
  },
  {
   "cell_type": "markdown",
   "metadata": {},
   "source": [
    "#### Basic Python"
   ]
  },
  {
   "cell_type": "code",
   "execution_count": 47,
   "metadata": {},
   "outputs": [],
   "source": [
    "import random"
   ]
  },
  {
   "cell_type": "code",
   "execution_count": 48,
   "metadata": {},
   "outputs": [],
   "source": [
    "def StickerAlbum(album_capacity = 600, purchased_stickers = 800, sims = 1000, seed = 123):\n",
    "    results =[]\n",
    "    random.seed(seed)\n",
    "    for m in range(sims):\n",
    "        album = []\n",
    "        for i in range(purchased_stickers):\n",
    "            sticker = (random.randint(1,album_capacity))\n",
    "            if sticker in album:\n",
    "                pass\n",
    "            else:\n",
    "                album.append(sticker)\n",
    "        length = len(album)\n",
    "        results.append(length)\n",
    "    mean =  sum(results)/len(results)\n",
    "    return mean"
   ]
  },
  {
   "cell_type": "code",
   "execution_count": 49,
   "metadata": {},
   "outputs": [
    {
     "name": "stdout",
     "output_type": "stream",
     "text": [
      "5.66 s ± 30.8 ms per loop (mean ± std. dev. of 7 runs, 1 loop each)\n"
     ]
    }
   ],
   "source": [
    "%timeit StickerAlbum(sims = 1000, purchased_stickers=1491)"
   ]
  },
  {
   "cell_type": "markdown",
   "metadata": {},
   "source": [
    "#### Numpy"
   ]
  },
  {
   "cell_type": "code",
   "execution_count": 50,
   "metadata": {},
   "outputs": [
    {
     "name": "stdout",
     "output_type": "stream",
     "text": [
      "73.6 ms ± 682 µs per loop (mean ± std. dev. of 7 runs, 10 loops each)\n"
     ]
    }
   ],
   "source": [
    "%timeit StickerAlbum_NP(sims = 1000, purchased_stickers=1491)"
   ]
  },
  {
   "cell_type": "markdown",
   "metadata": {
    "collapsed": true
   },
   "source": [
    "#### Fine Tuning"
   ]
  },
  {
   "cell_type": "code",
   "execution_count": 51,
   "metadata": {},
   "outputs": [],
   "source": [
    "def StickerAlbum_NP(album_capacity = 600, purchased_stickers = 800, sims = 5000, seed = 123, low_perc = 5, high_perc = 95):\n",
    "    np.random.seed(seed)\n",
    "    m = np.random.randint(1,album_capacity+1,sims*purchased_stickers).reshape(sims,purchased_stickers)\n",
    "    m.sort(axis = 1)\n",
    "    results = np.sum(m[:,1:] != m[:,:-1], axis = 1)+1\n",
    "    median = np.round(np.median(results),1)\n",
    "    low_percetile = np.round(np.percentile(results,low_perc),1)\n",
    "    high_percentile = np.round(np.percentile(results, high_perc),1)\n",
    "    return (low_percetile, median, high_percentile )"
   ]
  },
  {
   "cell_type": "code",
   "execution_count": 52,
   "metadata": {},
   "outputs": [
    {
     "data": {
      "text/plain": [
       "(540.0, 550.0, 560.0)"
      ]
     },
     "execution_count": 52,
     "metadata": {},
     "output_type": "execute_result"
    }
   ],
   "source": [
    "StickerAlbum_NP(sims = 10000, purchased_stickers=1491, low_perc=5, high_perc=95)"
   ]
  },
  {
   "cell_type": "markdown",
   "metadata": {},
   "source": [
    "## 6. Solving advanced Problems / Optimization\n"
   ]
  },
  {
   "cell_type": "markdown",
   "metadata": {},
   "source": [
    "### 6.1 Introducing Fair Trading / Perfect Pooling"
   ]
  },
  {
   "cell_type": "code",
   "execution_count": 53,
   "metadata": {},
   "outputs": [],
   "source": [
    "import numpy as np"
   ]
  },
  {
   "cell_type": "markdown",
   "metadata": {},
   "source": [
    "#### Toy Example (one Simulation)"
   ]
  },
  {
   "cell_type": "code",
   "execution_count": 54,
   "metadata": {},
   "outputs": [],
   "source": [
    "album_capacity = 10\n",
    "purchased_stickers = 7\n",
    "pool = 3\n",
    "seed = 42"
   ]
  },
  {
   "cell_type": "code",
   "execution_count": 55,
   "metadata": {},
   "outputs": [
    {
     "data": {
      "text/plain": [
       "array([ 2,  2,  3,  3,  4,  4,  5,  5,  5,  5,  6,  6,  7,  7,  7,  8,  8,\n",
       "        8,  8,  8, 10])"
      ]
     },
     "execution_count": 55,
     "metadata": {},
     "output_type": "execute_result"
    }
   ],
   "source": [
    "np.random.seed(seed)\n",
    "v = np.random.randint(1,album_capacity+1,purchased_stickers*pool)\n",
    "v.sort()\n",
    "v"
   ]
  },
  {
   "cell_type": "code",
   "execution_count": 56,
   "metadata": {},
   "outputs": [
    {
     "data": {
      "text/plain": [
       "array([ 3,  4,  4,  5,  5,  5,  5,  6,  6,  7,  7,  7,  8,  8,  8,  8,  8,\n",
       "       10])"
      ]
     },
     "execution_count": 56,
     "metadata": {},
     "output_type": "execute_result"
    }
   ],
   "source": [
    "v[pool:]"
   ]
  },
  {
   "cell_type": "code",
   "execution_count": 57,
   "metadata": {},
   "outputs": [
    {
     "data": {
      "text/plain": [
       "array([2, 2, 3, 3, 4, 4, 5, 5, 5, 5, 6, 6, 7, 7, 7, 8, 8, 8])"
      ]
     },
     "execution_count": 57,
     "metadata": {},
     "output_type": "execute_result"
    }
   ],
   "source": [
    "v[:-pool]"
   ]
  },
  {
   "cell_type": "code",
   "execution_count": 58,
   "metadata": {},
   "outputs": [
    {
     "data": {
      "text/plain": [
       "array([ True,  True,  True,  True,  True,  True, False,  True,  True,\n",
       "        True,  True,  True,  True,  True,  True, False, False,  True])"
      ]
     },
     "execution_count": 58,
     "metadata": {},
     "output_type": "execute_result"
    }
   ],
   "source": [
    "v[pool:] != v[:-pool]"
   ]
  },
  {
   "cell_type": "code",
   "execution_count": 59,
   "metadata": {},
   "outputs": [
    {
     "data": {
      "text/plain": [
       "6.0"
      ]
     },
     "execution_count": 59,
     "metadata": {},
     "output_type": "execute_result"
    }
   ],
   "source": [
    "(np.sum(v[pool:] != v[:-pool]) + pool) / pool "
   ]
  },
  {
   "cell_type": "markdown",
   "metadata": {
    "collapsed": true
   },
   "source": [
    "#### Toy Example (many Simulations Simulation)"
   ]
  },
  {
   "cell_type": "code",
   "execution_count": 60,
   "metadata": {},
   "outputs": [],
   "source": [
    "album_capacity = 10\n",
    "purchased_stickers = 7\n",
    "sims = 10\n",
    "pool = 2\n",
    "seed = 42"
   ]
  },
  {
   "cell_type": "code",
   "execution_count": 61,
   "metadata": {},
   "outputs": [
    {
     "data": {
      "text/plain": [
       "array([[ 3,  3,  4,  4,  5,  5,  7,  7,  7,  8,  8,  8,  8, 10],\n",
       "       [ 1,  1,  2,  2,  3,  5,  5,  6,  6,  6,  8,  9, 10, 10],\n",
       "       [ 2,  2,  3,  3,  4,  4,  5,  5,  7,  7,  7,  9,  9,  9],\n",
       "       [ 1,  2,  2,  3,  4,  4,  4,  5,  7,  8,  8,  9, 10, 10],\n",
       "       [ 2,  2,  2,  4,  4,  6,  6,  6,  7,  8,  9, 10, 10, 10],\n",
       "       [ 1,  1,  2,  5,  5,  7,  8,  8,  8,  9,  9,  9,  9, 10],\n",
       "       [ 1,  1,  3,  3,  3,  5,  7,  7,  8,  8,  8,  9, 10, 10],\n",
       "       [ 1,  1,  2,  3,  3,  3,  5,  6,  7,  7,  8,  8,  8,  9],\n",
       "       [ 1,  1,  3,  3,  4,  5,  5,  7,  7,  7,  9, 10, 10, 10],\n",
       "       [ 2,  3,  4,  4,  4,  5,  5,  6,  6,  7,  7,  7,  9, 10]])"
      ]
     },
     "execution_count": 61,
     "metadata": {},
     "output_type": "execute_result"
    }
   ],
   "source": [
    "np.random.seed(seed)\n",
    "m = np.random.randint(1,album_capacity+1,sims*purchased_stickers*pool).reshape(sims, purchased_stickers*pool)\n",
    "m.sort(axis = 1)\n",
    "m"
   ]
  },
  {
   "cell_type": "code",
   "execution_count": 62,
   "metadata": {},
   "outputs": [
    {
     "data": {
      "text/plain": [
       "array([5.5, 6.5, 6. , 6.5, 5.5, 5.5, 6. , 6. , 6. , 6. ])"
      ]
     },
     "execution_count": 62,
     "metadata": {},
     "output_type": "execute_result"
    }
   ],
   "source": [
    "results = (np.sum(m[:,pool:] != m[:,:-pool], axis = 1) + pool) / pool\n",
    "results"
   ]
  },
  {
   "cell_type": "markdown",
   "metadata": {},
   "source": [
    "#### Sticker Album Challange"
   ]
  },
  {
   "cell_type": "code",
   "execution_count": 63,
   "metadata": {},
   "outputs": [],
   "source": [
    "def StickerAlbum_NP(pool = 1, album_capacity = 600, purchased_stickers = 800,\n",
    "                    sims = 5000, seed = 123, low_perc = 5, high_perc = 95):\n",
    "    np.random.seed(seed)\n",
    "    m = np.random.randint(1,album_capacity+1,sims*purchased_stickers*pool).reshape(sims,purchased_stickers*pool)\n",
    "    m.sort(axis = 1)\n",
    "    results = (np.sum(m[:,pool:] != m[:,:-pool], axis = 1)+pool)/pool\n",
    "    median = np.round(np.median(results),1)\n",
    "    low_percetile = np.round(np.percentile(results,low_perc),1)\n",
    "    high_percentile = np.round(np.percentile(results, high_perc),1)\n",
    "    return (low_percetile, median, high_percentile )"
   ]
  },
  {
   "cell_type": "code",
   "execution_count": 64,
   "metadata": {},
   "outputs": [
    {
     "data": {
      "text/plain": [
       "(429.0, 442.0, 455.0)"
      ]
     },
     "execution_count": 64,
     "metadata": {},
     "output_type": "execute_result"
    }
   ],
   "source": [
    "StickerAlbum_NP(pool = 1, purchased_stickers= 800)"
   ]
  },
  {
   "cell_type": "code",
   "execution_count": 65,
   "metadata": {},
   "outputs": [
    {
     "data": {
      "text/plain": [
       "(494.0, 503.0, 511.0)"
      ]
     },
     "execution_count": 65,
     "metadata": {},
     "output_type": "execute_result"
    }
   ],
   "source": [
    "StickerAlbum_NP(pool = 2, purchased_stickers= 800)"
   ]
  },
  {
   "cell_type": "code",
   "execution_count": 66,
   "metadata": {},
   "outputs": [
    {
     "data": {
      "text/plain": [
       "(578.5, 581.5, 584.4)"
      ]
     },
     "execution_count": 66,
     "metadata": {},
     "output_type": "execute_result"
    }
   ],
   "source": [
    "StickerAlbum_NP(pool = 10, purchased_stickers= 800)"
   ]
  },
  {
   "cell_type": "code",
   "execution_count": 67,
   "metadata": {},
   "outputs": [
    {
     "name": "stdout",
     "output_type": "stream",
     "text": [
      "(543.0, 543.8, 544.7)\n",
      "(542.6, 543.7, 544.5)\n",
      "(542.9, 543.9, 544.8)\n",
      "(542.9, 543.8, 544.6)\n",
      "(542.8, 543.8, 544.6)\n",
      "(542.6, 543.9, 544.8)\n",
      "(542.7, 543.8, 544.6)\n",
      "(542.9, 543.7, 544.7)\n",
      "(542.6, 543.8, 544.7)\n",
      "(543.0, 543.9, 544.6)\n",
      "(542.8, 543.9, 544.6)\n",
      "(542.9, 543.7, 544.5)\n",
      "(542.8, 543.6, 544.6)\n",
      "(543.0, 543.8, 544.7)\n",
      "(542.9, 543.7, 544.7)\n",
      "(543.1, 543.8, 544.5)\n",
      "(542.8, 543.8, 544.4)\n",
      "(542.9, 543.8, 544.5)\n",
      "(542.8, 543.8, 544.7)\n",
      "(542.7, 543.6, 544.5)\n"
     ]
    }
   ],
   "source": [
    "for i in range(20):\n",
    "    print(StickerAlbum_NP(purchased_stickers= 550, pool = 100, sims = 50, seed = i))"
   ]
  },
  {
   "cell_type": "code",
   "execution_count": 77,
   "metadata": {},
   "outputs": [],
   "source": [
    "def StickerAlbum_NP(pool = 1, album_capacity = 600, purchased_stickers = 800,\n",
    "                    sims = 5000, seed = 123, low_perc = 5, high_perc = 95):\n",
    "    \n",
    "    sims = int(np.max((np.round(sims/pool, 0), 5)))\n",
    "   \n",
    "    np.random.seed(seed)\n",
    "    m = np.random.randint(1,album_capacity+1,sims*purchased_stickers*pool).reshape(sims,purchased_stickers*pool)\n",
    "    m.sort(axis = 1)\n",
    "    results = (np.sum(m[:,pool:] != m[:,:-pool], axis = 1)+pool)/pool\n",
    "    Median = np.round(np.median(results),1)\n",
    "    low_percetile = np.round(np.percentile(results,low_perc),1)\n",
    "    high_percentile = np.round(np.percentile(results, high_perc),1)\n",
    "    return (low_percetile, Median, high_percentile)\n",
    "    #return results"
   ]
  },
  {
   "cell_type": "code",
   "execution_count": 69,
   "metadata": {},
   "outputs": [
    {
     "data": {
      "text/plain": [
       "(575.0, 576.0, 576.9)"
      ]
     },
     "execution_count": 69,
     "metadata": {},
     "output_type": "execute_result"
    }
   ],
   "source": [
    "StickerAlbum_NP(pool = 100, purchased_stickers=600)"
   ]
  },
  {
   "cell_type": "markdown",
   "metadata": {},
   "source": [
    "### 6.2 Visualization"
   ]
  },
  {
   "cell_type": "code",
   "execution_count": 71,
   "metadata": {},
   "outputs": [],
   "source": [
    "import numpy as np\n",
    "import matplotlib.pyplot as plt\n",
    "%matplotlib inline\n",
    "plt.style.use(\"seaborn\")"
   ]
  },
  {
   "cell_type": "markdown",
   "metadata": {},
   "source": [
    "#### Histogramm"
   ]
  },
  {
   "cell_type": "code",
   "execution_count": 72,
   "metadata": {},
   "outputs": [],
   "source": [
    "pool_1 = StickerAlbum_NP(pool = 1, purchased_stickers= 800, sims = 10000)"
   ]
  },
  {
   "cell_type": "code",
   "execution_count": 73,
   "metadata": {},
   "outputs": [
    {
     "data": {
      "text/plain": [
       "10000"
      ]
     },
     "execution_count": 73,
     "metadata": {},
     "output_type": "execute_result"
    }
   ],
   "source": [
    "len(pool_1)"
   ]
  },
  {
   "cell_type": "code",
   "execution_count": 74,
   "metadata": {},
   "outputs": [],
   "source": [
    "pool = 5\n",
    "pool_m = StickerAlbum_NP(pool = pool, purchased_stickers= 800, sims = 10000)"
   ]
  },
  {
   "cell_type": "code",
   "execution_count": 75,
   "metadata": {},
   "outputs": [
    {
     "data": {
      "text/plain": [
       "10000"
      ]
     },
     "execution_count": 75,
     "metadata": {},
     "output_type": "execute_result"
    }
   ],
   "source": [
    "len(pool_m)"
   ]
  },
  {
   "cell_type": "code",
   "execution_count": 76,
   "metadata": {},
   "outputs": [
    {
     "data": {
      "image/png": "[encoded data removed]",
      "text/plain": [
       "<Figure size 720x432 with 1 Axes>"
      ]
     },
     "metadata": {},
     "output_type": "display_data"
    }
   ],
   "source": [
    "plt.figure(figsize = (10,6))\n",
    "plt.hist(pool_1, bins = int(pool_1.max()-pool_1.min()+1), alpha = 0.5, color = \"r\", label = \"Pool = 1\")\n",
    "plt.hist(pool_m, bins = int(pool_m.max()-pool_m.min()+1), alpha = 0.5, color = \"b\", label = \"Pool = {}\".format(pool))\n",
    "plt.xlabel(\"Number of Unique Stickers\")\n",
    "plt.ylabel(\"No. of Occurences (10,000 Simulations)\")\n",
    "plt.title(\"Frequency Distribution with 800 Purchased Stickers\", fontsize = 15)\n",
    "plt.legend(loc = \"center\", fontsize = 13)\n",
    "plt.show()"
   ]
  },
  {
   "cell_type": "markdown",
   "metadata": {},
   "source": [
    "#### Line Plot (Purchased Stickers vs. Unique Stickers -Curve)"
   ]
  },
  {
   "cell_type": "code",
   "execution_count": 78,
   "metadata": {},
   "outputs": [
    {
     "data": {
      "text/plain": [
       "(474.0, 487.0, 499.0)"
      ]
     },
     "execution_count": 78,
     "metadata": {},
     "output_type": "execute_result"
    }
   ],
   "source": [
    "StickerAlbum_NP(purchased_stickers=1000)"
   ]
  },
  {
   "cell_type": "code",
   "execution_count": 79,
   "metadata": {},
   "outputs": [],
   "source": [
    "pools = [1, 2, 3, 5, 10, 100, 10000]"
   ]
  },
  {
   "cell_type": "code",
   "execution_count": 80,
   "metadata": {},
   "outputs": [],
   "source": [
    "ys = []\n",
    "xs = np.linspace(1,2000,40).astype(\"int\")\n",
    "\n",
    "for j in pools:\n",
    "    y = []\n",
    "    for x in xs:\n",
    "        result = StickerAlbum_NP(pool = j, purchased_stickers=x, sims = 50)[1]\n",
    "        y.append(result)\n",
    "    ys.append(y)"
   ]
  },
  {
   "cell_type": "code",
   "execution_count": 81,
   "metadata": {},
   "outputs": [
    {
     "data": {
      "text/plain": [
       "array([   1,   52,  103,  154,  206,  257,  308,  359,  411,  462,  513,\n",
       "        564,  616,  667,  718,  769,  821,  872,  923,  974, 1026, 1077,\n",
       "       1128, 1179, 1231, 1282, 1333, 1384, 1436, 1487, 1538, 1589, 1641,\n",
       "       1692, 1743, 1794, 1846, 1897, 1948, 2000])"
      ]
     },
     "execution_count": 81,
     "metadata": {},
     "output_type": "execute_result"
    }
   ],
   "source": [
    "xs"
   ]
  },
  {
   "cell_type": "code",
   "execution_count": 82,
   "metadata": {
    "scrolled": true
   },
   "outputs": [
    {
     "data": {
      "text/plain": [
       "[[1.0,\n",
       "  50.0,\n",
       "  94.0,\n",
       "  136.0,\n",
       "  175.0,\n",
       "  210.5,\n",
       "  241.0,\n",
       "  270.0,\n",
       "  297.5,\n",
       "  323.0,\n",
       "  345.5,\n",
       "  366.5,\n",
       "  387.0,\n",
       "  403.0,\n",
       "  417.0,\n",
       "  434.0,\n",
       "  446.5,\n",
       "  458.5,\n",
       "  472.0,\n",
       "  481.0,\n",
       "  493.0,\n",
       "  499.5,\n",
       "  508.5,\n",
       "  516.0,\n",
       "  523.5,\n",
       "  530.0,\n",
       "  537.0,\n",
       "  541.0,\n",
       "  545.5,\n",
       "  549.5,\n",
       "  553.5,\n",
       "  558.0,\n",
       "  561.0,\n",
       "  564.5,\n",
       "  567.0,\n",
       "  570.5,\n",
       "  572.5,\n",
       "  574.0,\n",
       "  576.5,\n",
       "  579.0],\n",
       " [1.0,\n",
       "  52.0,\n",
       "  102.0,\n",
       "  148.5,\n",
       "  195.0,\n",
       "  235.5,\n",
       "  275.0,\n",
       "  309.0,\n",
       "  343.0,\n",
       "  372.0,\n",
       "  402.0,\n",
       "  424.0,\n",
       "  443.5,\n",
       "  461.5,\n",
       "  482.0,\n",
       "  494.5,\n",
       "  508.0,\n",
       "  521.0,\n",
       "  532.0,\n",
       "  539.5,\n",
       "  549.5,\n",
       "  556.0,\n",
       "  561.0,\n",
       "  566.5,\n",
       "  571.0,\n",
       "  575.5,\n",
       "  579.0,\n",
       "  580.5,\n",
       "  583.5,\n",
       "  586.0,\n",
       "  588.0,\n",
       "  589.0,\n",
       "  590.0,\n",
       "  592.5,\n",
       "  594.0,\n",
       "  594.5,\n",
       "  595.0,\n",
       "  596.0,\n",
       "  596.0,\n",
       "  597.0],\n",
       " [1.0,\n",
       "  52.0,\n",
       "  102.7,\n",
       "  152.3,\n",
       "  200.3,\n",
       "  246.3,\n",
       "  287.3,\n",
       "  327.7,\n",
       "  365.0,\n",
       "  395.7,\n",
       "  426.7,\n",
       "  450.7,\n",
       "  474.7,\n",
       "  492.7,\n",
       "  508.3,\n",
       "  524.0,\n",
       "  537.7,\n",
       "  547.7,\n",
       "  555.0,\n",
       "  563.3,\n",
       "  571.0,\n",
       "  575.3,\n",
       "  579.0,\n",
       "  583.3,\n",
       "  586.7,\n",
       "  588.7,\n",
       "  591.3,\n",
       "  592.3,\n",
       "  594.7,\n",
       "  595.0,\n",
       "  596.0,\n",
       "  596.7,\n",
       "  597.7,\n",
       "  598.0,\n",
       "  598.3,\n",
       "  598.7,\n",
       "  599.0,\n",
       "  599.3,\n",
       "  599.3,\n",
       "  599.7],\n",
       " [1.0,\n",
       "  52.0,\n",
       "  103.0,\n",
       "  153.9,\n",
       "  205.0,\n",
       "  253.2,\n",
       "  299.6,\n",
       "  342.8,\n",
       "  382.6,\n",
       "  420.1,\n",
       "  451.2,\n",
       "  478.0,\n",
       "  504.5,\n",
       "  521.2,\n",
       "  539.5,\n",
       "  552.4,\n",
       "  562.2,\n",
       "  571.5,\n",
       "  577.8,\n",
       "  583.7,\n",
       "  587.0,\n",
       "  590.2,\n",
       "  593.1,\n",
       "  594.7,\n",
       "  596.3,\n",
       "  597.6,\n",
       "  597.7,\n",
       "  598.1,\n",
       "  598.9,\n",
       "  599.4,\n",
       "  599.5,\n",
       "  599.4,\n",
       "  599.8,\n",
       "  599.8,\n",
       "  599.8,\n",
       "  600.0,\n",
       "  600.0,\n",
       "  600.0,\n",
       "  600.0,\n",
       "  600.0],\n",
       " [1.0,\n",
       "  52.0,\n",
       "  103.0,\n",
       "  154.0,\n",
       "  206.0,\n",
       "  256.5,\n",
       "  306.3,\n",
       "  354.0,\n",
       "  400.7,\n",
       "  443.0,\n",
       "  477.6,\n",
       "  508.0,\n",
       "  533.9,\n",
       "  552.0,\n",
       "  566.9,\n",
       "  577.5,\n",
       "  584.2,\n",
       "  589.7,\n",
       "  593.2,\n",
       "  595.6,\n",
       "  597.5,\n",
       "  598.5,\n",
       "  598.8,\n",
       "  599.3,\n",
       "  599.7,\n",
       "  599.9,\n",
       "  600.0,\n",
       "  600.0,\n",
       "  600.0,\n",
       "  600.0,\n",
       "  600.0,\n",
       "  600.0,\n",
       "  600.0,\n",
       "  600.0,\n",
       "  600.0,\n",
       "  600.0,\n",
       "  600.0,\n",
       "  600.0,\n",
       "  600.0,\n",
       "  600.0],\n",
       " [1.0,\n",
       "  52.0,\n",
       "  103.0,\n",
       "  154.0,\n",
       "  206.0,\n",
       "  257.0,\n",
       "  308.0,\n",
       "  359.0,\n",
       "  411.0,\n",
       "  461.8,\n",
       "  511.2,\n",
       "  554.2,\n",
       "  583.3,\n",
       "  595.4,\n",
       "  599.0,\n",
       "  599.9,\n",
       "  600.0,\n",
       "  600.0,\n",
       "  600.0,\n",
       "  600.0,\n",
       "  600.0,\n",
       "  600.0,\n",
       "  600.0,\n",
       "  600.0,\n",
       "  600.0,\n",
       "  600.0,\n",
       "  600.0,\n",
       "  600.0,\n",
       "  600.0,\n",
       "  600.0,\n",
       "  600.0,\n",
       "  600.0,\n",
       "  600.0,\n",
       "  600.0,\n",
       "  600.0,\n",
       "  600.0,\n",
       "  600.0,\n",
       "  600.0,\n",
       "  600.0,\n",
       "  600.0],\n",
       " [1.0,\n",
       "  52.0,\n",
       "  103.0,\n",
       "  154.0,\n",
       "  206.0,\n",
       "  257.0,\n",
       "  308.0,\n",
       "  359.0,\n",
       "  411.0,\n",
       "  462.0,\n",
       "  513.0,\n",
       "  564.0,\n",
       "  600.0,\n",
       "  600.0,\n",
       "  600.0,\n",
       "  600.0,\n",
       "  600.0,\n",
       "  600.0,\n",
       "  600.0,\n",
       "  600.0,\n",
       "  600.0,\n",
       "  600.0,\n",
       "  600.0,\n",
       "  600.0,\n",
       "  600.0,\n",
       "  600.0,\n",
       "  600.0,\n",
       "  600.0,\n",
       "  600.0,\n",
       "  600.0,\n",
       "  600.0,\n",
       "  600.0,\n",
       "  600.0,\n",
       "  600.0,\n",
       "  600.0,\n",
       "  600.0,\n",
       "  600.0,\n",
       "  600.0,\n",
       "  600.0,\n",
       "  600.0]]"
      ]
     },
     "execution_count": 82,
     "metadata": {},
     "output_type": "execute_result"
    }
   ],
   "source": [
    "ys"
   ]
  },
  {
   "cell_type": "code",
   "execution_count": 83,
   "metadata": {},
   "outputs": [
    {
     "data": {
      "image/png": "[encoded data removed]",
      "text/plain": [
       "<Figure size 1008x576 with 1 Axes>"
      ]
     },
     "metadata": {},
     "output_type": "display_data"
    }
   ],
   "source": [
    "xmin, xmax = 0, 1500\n",
    "ymin, ymax = 0, 610\n",
    "\n",
    "plt.figure(figsize = (14,8))\n",
    "plt.axis((xmin,xmax,ymin,ymax))\n",
    "plt.xticks(range(xmin,xmax,100))\n",
    "plt.yticks(range(ymin,ymax,50))\n",
    "count = 0\n",
    "for pool in pools:\n",
    "    plt.plot(xs, ys[count], label = \"Pool = {}\".format(pool))\n",
    "    count +=1\n",
    "plt.hlines(550, xmin, xmax, color = \"red\", linestyle = \"--\")\n",
    "plt.legend(loc = \"lower right\", fontsize = 15) \n",
    "plt.xlabel(\"Purchased Stickers\")\n",
    "plt.ylabel(\"Unique Stickers\")\n",
    "plt.title(\"Sticker Album Simulation (capacity = 600)\", fontsize = 15)\n",
    "plt.show()"
   ]
  },
  {
   "cell_type": "markdown",
   "metadata": {
    "collapsed": true
   },
   "source": [
    "### 6.3 Solving / Optimization "
   ]
  },
  {
   "cell_type": "code",
   "execution_count": 84,
   "metadata": {},
   "outputs": [],
   "source": [
    "import numpy as np"
   ]
  },
  {
   "cell_type": "code",
   "execution_count": 85,
   "metadata": {},
   "outputs": [],
   "source": [
    "def StickerAlbum_NP(pool = 1, album_capacity = 600, purchased_stickers = 800,\n",
    "                    sims = 5000, seed = 123, low_perc = 5, high_perc = 95):\n",
    "    \n",
    "    sims = int(np.max((np.round(sims/pool, 0), 5)))\n",
    "   \n",
    "    np.random.seed(seed)\n",
    "    m = np.random.randint(1,album_capacity+1,sims*purchased_stickers*pool).reshape(sims,purchased_stickers*pool)\n",
    "    m.sort(axis = 1)\n",
    "    results = (np.sum(m[:,pool:] != m[:,:-pool], axis = 1)+pool)/pool\n",
    "    Median = np.round(np.median(results),1)\n",
    "    low_percetile = np.round(np.percentile(results,low_perc),1)\n",
    "    high_percentile = np.round(np.percentile(results, high_perc),1)\n",
    "    return (low_percetile, Median, high_percentile)"
   ]
  },
  {
   "cell_type": "code",
   "execution_count": 86,
   "metadata": {},
   "outputs": [],
   "source": [
    "def optimize(pool = 1, album_capacity = 600, random_start_frac = 0.8, sims = 500, seed = 123, \n",
    "             target = 550, learning_rate = 4, epochs = 100, tolerance = 0.5):\n",
    "    \n",
    "    random_start = round(album_capacity * random_start_frac)\n",
    "    \n",
    "    for _ in range(epochs):\n",
    "        result = StickerAlbum_NP(pool = pool, album_capacity = album_capacity,\n",
    "                                 purchased_stickers = int(random_start),\n",
    "                                 sims = sims, seed = seed,low_perc = 5, high_perc = 95)[1]\n",
    "        delta = (result-target)\n",
    "        print(random_start, result)\n",
    "        if abs(delta)<tolerance:\n",
    "            break\n",
    "        else:\n",
    "            random_start -= round(learning_rate * delta)\n",
    "    return random_start, result"
   ]
  },
  {
   "cell_type": "code",
   "execution_count": 87,
   "metadata": {},
   "outputs": [
    {
     "name": "stdout",
     "output_type": "stream",
     "text": [
      "480 331.0\n",
      "1356.0 537.0\n",
      "1408.0 543.0\n",
      "1436.0 546.0\n",
      "1452.0 547.0\n",
      "1464.0 547.0\n",
      "1476.0 549.0\n",
      "1480.0 549.0\n",
      "1484.0 550.0\n"
     ]
    },
    {
     "data": {
      "text/plain": [
       "(1484.0, 550.0)"
      ]
     },
     "execution_count": 87,
     "metadata": {},
     "output_type": "execute_result"
    }
   ],
   "source": [
    "optimize(pool = 1, album_capacity=600, target = 550) #Base Case, Pool = 1 , moderate part of curve"
   ]
  },
  {
   "cell_type": "code",
   "execution_count": 88,
   "metadata": {},
   "outputs": [
    {
     "name": "stdout",
     "output_type": "stream",
     "text": [
      "480 331.0\n",
      "249.0 204.0\n",
      "145.0 129.0\n",
      "116.0 106.0\n",
      "110.0 101.0\n",
      "109.0 100.0\n"
     ]
    },
    {
     "data": {
      "text/plain": [
       "(109.0, 100.0)"
      ]
     },
     "execution_count": 88,
     "metadata": {},
     "output_type": "execute_result"
    }
   ],
   "source": [
    "optimize(pool = 1, album_capacity=600, target = 100, learning_rate= 1) #Pool = 1 , steep part of curve"
   ]
  },
  {
   "cell_type": "code",
   "execution_count": 89,
   "metadata": {},
   "outputs": [
    {
     "name": "stdout",
     "output_type": "stream",
     "text": [
      "480 331.0\n",
      "3160.0 597.0\n",
      "3180.0 597.0\n",
      "3200.0 597.0\n",
      "3220.0 597.0\n",
      "3240.0 598.0\n",
      "3250.0 597.0\n",
      "3270.0 598.0\n",
      "3280.0 598.0\n",
      "3290.0 598.0\n",
      "3300.0 598.0\n",
      "3310.0 598.0\n",
      "3320.0 598.0\n",
      "3330.0 598.0\n",
      "3340.0 598.0\n",
      "3350.0 598.0\n",
      "3360.0 598.0\n",
      "3370.0 598.0\n",
      "3380.0 598.0\n",
      "3390.0 598.0\n",
      "3400.0 598.0\n",
      "3410.0 598.0\n",
      "3420.0 598.0\n",
      "3430.0 598.0\n",
      "3440.0 598.0\n",
      "3450.0 598.0\n",
      "3460.0 598.0\n",
      "3470.0 598.0\n",
      "3480.0 598.0\n",
      "3490.0 599.0\n"
     ]
    },
    {
     "data": {
      "text/plain": [
       "(3490.0, 599.0)"
      ]
     },
     "execution_count": 89,
     "metadata": {},
     "output_type": "execute_result"
    }
   ],
   "source": [
    "optimize(pool = 1, album_capacity=600, target = 599, learning_rate=10) #Pool = 1 , flat part of curve"
   ]
  },
  {
   "cell_type": "code",
   "execution_count": 90,
   "metadata": {},
   "outputs": [
    {
     "name": "stdout",
     "output_type": "stream",
     "text": [
      "480 453.7\n",
      "865.0 589.2\n",
      "708.0 563.6\n",
      "654.0 546.8\n",
      "667.0 550.7\n",
      "664.0 549.8\n"
     ]
    },
    {
     "data": {
      "text/plain": [
       "(664.0, 549.8)"
      ]
     },
     "execution_count": 90,
     "metadata": {},
     "output_type": "execute_result"
    }
   ],
   "source": [
    "optimize(pool = 10, album_capacity=600, target = 550) #pool = 10, moderate part of curve"
   ]
  },
  {
   "cell_type": "code",
   "execution_count": 91,
   "metadata": {},
   "outputs": [
    {
     "name": "stdout",
     "output_type": "stream",
     "text": [
      "480 453.7\n",
      "126.0 126.0\n",
      "100.0 100.0\n"
     ]
    },
    {
     "data": {
      "text/plain": [
       "(100.0, 100.0)"
      ]
     },
     "execution_count": 91,
     "metadata": {},
     "output_type": "execute_result"
    }
   ],
   "source": [
    "optimize(pool = 10, album_capacity=600, target = 100, learning_rate=1) #Pool = 10 , steep part of curve"
   ]
  },
  {
   "cell_type": "code",
   "execution_count": 92,
   "metadata": {},
   "outputs": [
    {
     "name": "stdout",
     "output_type": "stream",
     "text": [
      "480 453.7\n",
      "1061.0 598.3\n",
      "1064.0 598.2\n",
      "1067.0 598.3\n",
      "1070.0 598.3\n",
      "1073.0 598.3\n",
      "1076.0 598.4\n",
      "1078.0 598.4\n",
      "1080.0 598.4\n",
      "1082.0 598.4\n",
      "1084.0 598.4\n",
      "1086.0 598.5\n",
      "1088.0 598.5\n",
      "1090.0 598.6\n"
     ]
    },
    {
     "data": {
      "text/plain": [
       "(1090.0, 598.6)"
      ]
     },
     "execution_count": 92,
     "metadata": {},
     "output_type": "execute_result"
    }
   ],
   "source": [
    "optimize(pool = 10, album_capacity=600, target = 599) #Pool = 10 , flat part of curve"
   ]
  },
  {
   "cell_type": "code",
   "execution_count": 93,
   "metadata": {},
   "outputs": [
    {
     "name": "stdout",
     "output_type": "stream",
     "text": [
      "480 480.0\n",
      "550.0 550.0\n"
     ]
    },
    {
     "data": {
      "text/plain": [
       "(550.0, 550.0)"
      ]
     },
     "execution_count": 93,
     "metadata": {},
     "output_type": "execute_result"
    }
   ],
   "source": [
    "optimize(pool = 1000, album_capacity=600, target = 550, learning_rate=1) #pool = 1000, moderate(?) part of \"curve\""
   ]
  },
  {
   "cell_type": "code",
   "execution_count": 94,
   "metadata": {},
   "outputs": [
    {
     "name": "stdout",
     "output_type": "stream",
     "text": [
      "480 480.0\n",
      "100.0 100.0\n"
     ]
    },
    {
     "data": {
      "text/plain": [
       "(100.0, 100.0)"
      ]
     },
     "execution_count": 94,
     "metadata": {},
     "output_type": "execute_result"
    }
   ],
   "source": [
    "optimize(pool = 1000, album_capacity=600, target = 100, learning_rate=1) #pool = 1000, steep(?) part of \"curve\""
   ]
  },
  {
   "cell_type": "code",
   "execution_count": 95,
   "metadata": {},
   "outputs": [
    {
     "name": "stdout",
     "output_type": "stream",
     "text": [
      "480 480.0\n",
      "599.0 591.8\n",
      "606.0 595.0\n",
      "610.0 596.2\n",
      "613.0 596.9\n",
      "615.0 597.4\n",
      "617.0 597.7\n",
      "618.0 597.9\n",
      "619.0 598.1\n",
      "620.0 598.3\n",
      "621.0 598.4\n",
      "622.0 598.6\n"
     ]
    },
    {
     "data": {
      "text/plain": [
       "(622.0, 598.6)"
      ]
     },
     "execution_count": 95,
     "metadata": {},
     "output_type": "execute_result"
    }
   ],
   "source": [
    "optimize(pool = 1000, album_capacity=600, target = 599, learning_rate=1) #pool = 1000, flat(?) part of \"curve\""
   ]
  },
  {
   "cell_type": "code",
   "execution_count": 96,
   "metadata": {},
   "outputs": [],
   "source": [
    "def optimize(pool = 1, album_capacity = 600, random_start_frac = 0.8, sims = 500, seed = 123, \n",
    "             target = 550, learning_rate = 4, epochs = 100, tolerance = 0.5,\n",
    "             metric = \"median\", low_perc = 5, high_perc = 95):\n",
    "    \n",
    "    if metric == \"median\":\n",
    "        index = 1\n",
    "    elif metric == \"low_perc\":\n",
    "        index = 0\n",
    "    elif metric == \"high_perc\":\n",
    "        index = 2\n",
    "    \n",
    "    random_start = round(album_capacity * random_start_frac)\n",
    "    \n",
    "    for _ in range(epochs):\n",
    "        result = StickerAlbum_NP(pool = pool, album_capacity = album_capacity,\n",
    "                                purchased_stickers = int(random_start),\n",
    "                                sims = sims, seed = seed,low_perc = low_perc, high_perc = high_perc)[index]\n",
    "        delta = (result-target)\n",
    "        #print(random_start, result)\n",
    "        if abs(delta)<tolerance:\n",
    "            break\n",
    "        else:\n",
    "            random_start -= round(learning_rate * delta)\n",
    "    return random_start, result"
   ]
  },
  {
   "cell_type": "code",
   "execution_count": 97,
   "metadata": {},
   "outputs": [
    {
     "data": {
      "text/plain": [
       "(1536.0, 550.0)"
      ]
     },
     "execution_count": 97,
     "metadata": {},
     "output_type": "execute_result"
    }
   ],
   "source": [
    "#chance of 75% to get at least 550 unique stickers / risk of 25% to get less\n",
    "optimize(album_capacity=600, target= 550, low_perc= 25, metric= \"low_perc\", sims = 5000)"
   ]
  },
  {
   "cell_type": "code",
   "execution_count": 98,
   "metadata": {},
   "outputs": [
    {
     "data": {
      "text/plain": [
       "(550.0, 554.0, 563.0)"
      ]
     },
     "execution_count": 98,
     "metadata": {},
     "output_type": "execute_result"
    }
   ],
   "source": [
    "StickerAlbum_NP(album_capacity=600, purchased_stickers= 1536, low_perc= 25)"
   ]
  },
  {
   "cell_type": "code",
   "execution_count": 99,
   "metadata": {},
   "outputs": [
    {
     "data": {
      "text/plain": [
       "(1488.0, 550.0)"
      ]
     },
     "execution_count": 99,
     "metadata": {},
     "output_type": "execute_result"
    }
   ],
   "source": [
    "#chance/risk of 50% to get at least/less than 550 unique stickers\n",
    "optimize(album_capacity=600, target= 550, metric= \"median\", sims = 5000)"
   ]
  },
  {
   "cell_type": "code",
   "execution_count": 100,
   "metadata": {},
   "outputs": [
    {
     "data": {
      "text/plain": [
       "(540.0, 550.0, 560.0)"
      ]
     },
     "execution_count": 100,
     "metadata": {},
     "output_type": "execute_result"
    }
   ],
   "source": [
    "StickerAlbum_NP(album_capacity=600, purchased_stickers= 1488)"
   ]
  },
  {
   "cell_type": "code",
   "execution_count": 101,
   "metadata": {},
   "outputs": [
    {
     "data": {
      "text/plain": [
       "(1440.0, 550.0)"
      ]
     },
     "execution_count": 101,
     "metadata": {},
     "output_type": "execute_result"
    }
   ],
   "source": [
    "#chance of 25% to get at least 550 unique stickers / risk of 75% to get less\n",
    "optimize(album_capacity=600, target= 550, high_perc= 75, metric= \"high_perc\", sims = 5000)"
   ]
  },
  {
   "cell_type": "code",
   "execution_count": 102,
   "metadata": {},
   "outputs": [
    {
     "data": {
      "text/plain": [
       "(535.0, 546.0, 550.0)"
      ]
     },
     "execution_count": 102,
     "metadata": {},
     "output_type": "execute_result"
    }
   ],
   "source": [
    "StickerAlbum_NP(album_capacity=600, high_perc= 75, purchased_stickers= 1440)"
   ]
  },
  {
   "cell_type": "markdown",
   "metadata": {},
   "source": [
    "#### Final Case Study "
   ]
  },
  {
   "cell_type": "code",
   "execution_count": 103,
   "metadata": {
    "scrolled": true
   },
   "outputs": [
    {
     "data": {
      "text/plain": [
       "(3131.0, 476.0)"
      ]
     },
     "execution_count": 103,
     "metadata": {},
     "output_type": "execute_result"
    }
   ],
   "source": [
    "#no exchange of duplicates with others, no order of the last 50 stickers\n",
    "optimize(pool = 1, album_capacity= 476, target = 476, metric = \"median\", learning_rate= 10)"
   ]
  },
  {
   "cell_type": "code",
   "execution_count": 104,
   "metadata": {},
   "outputs": [
    {
     "data": {
      "text/plain": [
       "(1069.0, 426.0)"
      ]
     },
     "execution_count": 104,
     "metadata": {},
     "output_type": "execute_result"
    }
   ],
   "source": [
    "#no exchange of duplicates with others, ordering the last 50 stickers\n",
    "optimize(pool = 1, album_capacity= 476, target = 426, metric = \"median\")"
   ]
  },
  {
   "cell_type": "code",
   "execution_count": 105,
   "metadata": {},
   "outputs": [
    {
     "data": {
      "text/plain": [
       "(654.0, 425.7)"
      ]
     },
     "execution_count": 105,
     "metadata": {},
     "output_type": "execute_result"
    }
   ],
   "source": [
    "#exchange of duplicates with two friends, ordering the last 50 stickers\n",
    "optimize(pool = 3, album_capacity= 476, target = 426, metric = \"median\", learning_rate=2)"
   ]
  },
  {
   "cell_type": "code",
   "execution_count": 106,
   "metadata": {},
   "outputs": [
    {
     "data": {
      "text/plain": [
       "(638.0, 426.0)"
      ]
     },
     "execution_count": 106,
     "metadata": {},
     "output_type": "execute_result"
    }
   ],
   "source": [
    "#exchange of duplicates with two friends, ordering the last 50 stickers, first approach: chance of 10%\n",
    "optimize(pool = 3, album_capacity= 476, target = 426, metric = \"high_perc\", high_perc= 90, learning_rate= 2)"
   ]
  },
  {
   "cell_type": "code",
   "execution_count": null,
   "metadata": {
    "collapsed": true
   },
   "outputs": [],
   "source": []
  }
 ],
 "metadata": {
  "kernelspec": {
   "display_name": "Python 3",
   "language": "python",
   "name": "python3"
  },
  "language_info": {
   "codemirror_mode": {
    "name": "ipython",
    "version": 3
   },
   "file_extension": ".py",
   "mimetype": "text/x-python",
   "name": "python",
   "nbconvert_exporter": "python",
   "pygments_lexer": "ipython3",
   "version": "3.7.0"
  }
 },
 "nbformat": 4,
 "nbformat_minor": 2
}
