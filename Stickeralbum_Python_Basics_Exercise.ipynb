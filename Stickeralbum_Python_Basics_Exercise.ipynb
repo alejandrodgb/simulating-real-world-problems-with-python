{
 "cells": [
  {
   "cell_type": "markdown",
   "metadata": {},
   "source": [
    "# The Sticker Album Challange\n",
    "\n",
    "## Solution with Python Standard Library\n"
   ]
  },
  {
   "cell_type": "markdown",
   "metadata": {},
   "source": [
    "## 1. Getting startet...one simulation"
   ]
  },
  {
   "cell_type": "markdown",
   "metadata": {},
   "source": [
    "Your Sticker Album has a capacity of 600 unique Stickers (consecutively numbered from 1 to 600) and your budget allows you to buy 800 stickers, hoping to complete the album with max 200 duplicates...(naive start of the game...)\n",
    "\n",
    "We assign \n",
    "- __600__ to the variable __album_capacity__\n",
    "- __800__ to the variable __purchased_stickers__"
   ]
  },
  {
   "cell_type": "code",
   "execution_count": null,
   "metadata": {},
   "outputs": [],
   "source": []
  },
  {
   "cell_type": "markdown",
   "metadata": {},
   "source": [
    "Before we can simulate the random purchase of stickers, we have to __import the \"random\" module__ first..."
   ]
  },
  {
   "cell_type": "code",
   "execution_count": null,
   "metadata": {},
   "outputs": [],
   "source": []
  },
  {
   "cell_type": "markdown",
   "metadata": {},
   "source": [
    "Now let´s simulate the random __purchase of one sticker__. Use __random.randint__ and keep in mind that stickers are consecutively numbered from __1 to 600__."
   ]
  },
  {
   "cell_type": "code",
   "execution_count": null,
   "metadata": {
    "scrolled": true
   },
   "outputs": [],
   "source": []
  },
  {
   "cell_type": "markdown",
   "metadata": {
    "collapsed": true
   },
   "source": [
    "Alright, that works. Let´s now simulate the random __purchase of 800 stickers__ by using a __for loop__ (using __range(purchased_stickers)__). <br> <br>  Before we start looping, we need to \n",
    "- buy our Sticker album by __creating an empty list__ called __album__\n",
    "- set __random.seed__ to __123__ in order to create \"pseudo-random\" numbers which enables you to exactly replicate my simulation process.<br><br>\n",
    "\n",
    "Once we have finished these two steps, we can \n",
    "- use a __for loop__\n",
    "- __name__ each randomly created number __sticker__\n",
    "- and __append__ each sticker to our __album__. "
   ]
  },
  {
   "cell_type": "code",
   "execution_count": null,
   "metadata": {},
   "outputs": [],
   "source": []
  },
  {
   "cell_type": "markdown",
   "metadata": {
    "collapsed": true
   },
   "source": [
    "Let´s inspect our album by __printing__ it and verify that the total number of stickers is indeed 800 (__len(album)__). "
   ]
  },
  {
   "cell_type": "code",
   "execution_count": null,
   "metadata": {
    "scrolled": true
   },
   "outputs": [],
   "source": [
    "#print album"
   ]
  },
  {
   "cell_type": "code",
   "execution_count": null,
   "metadata": {},
   "outputs": [],
   "source": [
    "#check the length of album"
   ]
  },
  {
   "cell_type": "markdown",
   "metadata": {},
   "source": [
    "Do you think we have a complete album and our naive approach is working? Let´s check how many __unique Stickers__ and how many __duplicates__ we have. We should at least have 200 duplicates that we cannot paste into the album.<br><br> Use __set(list)__ to transform the list object album into a __set object__ and we get all unique stickers (assign the variable __unique__)."
   ]
  },
  {
   "cell_type": "code",
   "execution_count": null,
   "metadata": {},
   "outputs": [],
   "source": []
  },
  {
   "cell_type": "markdown",
   "metadata": {},
   "source": [
    "Use the __len() function__ to determine the number of unique stickers in our album."
   ]
  },
  {
   "cell_type": "code",
   "execution_count": null,
   "metadata": {},
   "outputs": [],
   "source": []
  },
  {
   "cell_type": "markdown",
   "metadata": {},
   "source": [
    "Ok, we have __451 unique stickers__. Our album is 75% complete. "
   ]
  },
  {
   "cell_type": "markdown",
   "metadata": {},
   "source": [
    "Let´s make a crosscheck and get all duplicates by\n",
    "- Creating a copy (__list.copy()__) of album and assign the variable __duplicates__.\n",
    "- remove from duplicates all elements of unique (__list.remove()__). Hint: iterate over all elements of unique and remove them from duplicates."
   ]
  },
  {
   "cell_type": "code",
   "execution_count": null,
   "metadata": {},
   "outputs": [],
   "source": []
  },
  {
   "cell_type": "markdown",
   "metadata": {},
   "source": [
    "Print duplicates and determine the __amount (len()) of duplicates__. Should be __349__."
   ]
  },
  {
   "cell_type": "code",
   "execution_count": null,
   "metadata": {},
   "outputs": [],
   "source": []
  },
  {
   "cell_type": "markdown",
   "metadata": {
    "collapsed": true
   },
   "source": [
    "This works. Now let us focus on our task to write code that reflects reality. We can only add/paste a sticker to our album, if it is not already in our album. Therefore we should __introduce an if statement__ that is checking __if__ each randomly created __sticker__ is already __in__ our __album__. \n",
    "- If the sticker is already in our album, we are doing nothing (__pass__), \n",
    "- otherwise (__else__) we __append the sticker to our album__.\n",
    "\n",
    "__Copy__ the Code a few lines above and __include the if statement__ and then run the code again.  "
   ]
  },
  {
   "cell_type": "code",
   "execution_count": null,
   "metadata": {},
   "outputs": [],
   "source": []
  },
  {
   "cell_type": "markdown",
   "metadata": {
    "collapsed": true
   },
   "source": [
    "Perfect, let´s again inspect our album...How many __unique stickers__ do we have?"
   ]
  },
  {
   "cell_type": "code",
   "execution_count": null,
   "metadata": {},
   "outputs": [],
   "source": [
    "#print album"
   ]
  },
  {
   "cell_type": "code",
   "execution_count": null,
   "metadata": {},
   "outputs": [],
   "source": [
    "#check the length of album"
   ]
  },
  {
   "cell_type": "markdown",
   "metadata": {
    "collapsed": true
   },
   "source": [
    "Since we used the same random.seed parameter (123) we end up with the same result as before, __451 unique stickers__. This is disappointing as we require further 149 stickers to complete our album.  <br><br>\n",
    "Ok this was one simulation and maybe we had just bad luck... Let´s simulate this process many times (__many simulations__) and get many data points instead of only one data point. The resulting __probability distribution of all simulations__ will give us more information about what we can expect.  "
   ]
  },
  {
   "cell_type": "markdown",
   "metadata": {
    "collapsed": true
   },
   "source": [
    "## 2. Getting  probabilistic...with many simulations"
   ]
  },
  {
   "cell_type": "markdown",
   "metadata": {
    "collapsed": true
   },
   "source": [
    "Allright let´s start smoothly and set the number of simulations (variable __sims__) to __10__."
   ]
  },
  {
   "cell_type": "code",
   "execution_count": null,
   "metadata": {},
   "outputs": [],
   "source": []
  },
  {
   "cell_type": "markdown",
   "metadata": {
    "collapsed": true
   },
   "source": [
    "__Copy__ the code block from above and __add at the very top__: \n",
    "- an __empty list called results__ where you can store the result of each simulation (length of each album)\n",
    "- start another (outer) __for loop (range(sims))__ to make 10 simulations/albums.\n",
    "\n",
    " "
   ]
  },
  {
   "cell_type": "markdown",
   "metadata": {},
   "source": [
    "Next:\n",
    "- Calculate and assign the __length__ of each album __(len(album))__\n",
    "- At the very bottom of the outer for loop, __append__ the length of each album to the list __results__\n",
    "- mind the __indents__!"
   ]
  },
  {
   "cell_type": "code",
   "execution_count": null,
   "metadata": {},
   "outputs": [],
   "source": []
  },
  {
   "cell_type": "markdown",
   "metadata": {
    "collapsed": true
   },
   "source": [
    "Let´s inspect the results... Do you notice anything strange?"
   ]
  },
  {
   "cell_type": "code",
   "execution_count": null,
   "metadata": {},
   "outputs": [],
   "source": []
  },
  {
   "cell_type": "markdown",
   "metadata": {
    "collapsed": true
   },
   "source": [
    "We have ten albums __each__ of them having __451 unique stickers__. Is this by chance? No!<br>\n",
    "We need to place the __random.seed__ statement __outside both for_loops__ to the very top of our code!\n",
    "<br>Let´s rearrange above and inspect the results again!..."
   ]
  },
  {
   "cell_type": "markdown",
   "metadata": {},
   "source": [
    "OK now we get __different results__ and it looks like it´s not really getting better than 451!"
   ]
  },
  {
   "cell_type": "markdown",
   "metadata": {},
   "source": [
    "Let´s further __increase simulations to 1000__ to further reduce the impact of randomness (random noise). This is important when we later calculate statistics like mean, median, etc.<br><br>\n",
    "Let´s continue. Copy the above code block and add __sims = 1000__ at the very top and run the code."
   ]
  },
  {
   "cell_type": "code",
   "execution_count": null,
   "metadata": {},
   "outputs": [],
   "source": []
  },
  {
   "cell_type": "markdown",
   "metadata": {},
   "source": [
    "Make a sanity check and call __len(results)__. This should be __1000__!"
   ]
  },
  {
   "cell_type": "code",
   "execution_count": null,
   "metadata": {},
   "outputs": [],
   "source": []
  },
  {
   "cell_type": "markdown",
   "metadata": {},
   "source": [
    "## 3. Analyzing results and calculating statistics"
   ]
  },
  {
   "cell_type": "markdown",
   "metadata": {},
   "source": [
    "Perfect! Now it´s time to inspect our results in a more detailed way. Let´s calculate \n",
    "- the Minimum using __min()__ --> assign __Min__\n",
    "- the Maximum using __max()__ --> assign __Max__\n",
    "- the Mean using __sum()/len()__ --> assign __Mean__\n",
    "- the Median using __def Median()__ --> assign __Median__\n"
   ]
  },
  {
   "cell_type": "code",
   "execution_count": null,
   "metadata": {},
   "outputs": [],
   "source": [
    "#min"
   ]
  },
  {
   "cell_type": "code",
   "execution_count": null,
   "metadata": {},
   "outputs": [],
   "source": [
    "#Max"
   ]
  },
  {
   "cell_type": "code",
   "execution_count": null,
   "metadata": {},
   "outputs": [],
   "source": [
    "#Mean"
   ]
  },
  {
   "cell_type": "code",
   "execution_count": null,
   "metadata": {},
   "outputs": [],
   "source": [
    "#nothing to code here\n",
    "def Med(lst):\n",
    "    n = len(lst)\n",
    "    if n < 1:\n",
    "            return None\n",
    "    if n % 2 == 1:\n",
    "            return sorted(lst)[n//2]\n",
    "    else:\n",
    "            return sum(sorted(lst)[n//2-1:n//2+1])/2.0\n",
    "Median = Med(results)\n",
    "Median"
   ]
  },
  {
   "cell_type": "markdown",
   "metadata": {},
   "source": [
    "On average we can expect approx. __442 unique__ stickers. But what could be more intuitive than __visualizing__ our  results to have a better understanding of the __probability distribution__ of results???\n",
    "<br><br>Let´s first \n",
    "- __import matplotlib.pyplot as plt__. \n",
    "- we require __%matplotlib inline__\n",
    "- and we set style to __\"seaborn\"__ (__plt.style.use()__)"
   ]
  },
  {
   "cell_type": "code",
   "execution_count": null,
   "metadata": {},
   "outputs": [],
   "source": []
  },
  {
   "cell_type": "markdown",
   "metadata": {},
   "source": [
    "Ok, we should visualize our results with a __Histogramm__, using __plt.hist()__.<br><br>Therefore we set\n",
    "the parameter __bins__ equal to __(Max-Min+1)__ and add\n",
    "- x-axis label (__plt.xlabel()__) with __\"Number of Unique Stickers\"__\n",
    "- y-axis label (__plt.ylabel()__) with __\"No. of Occurences\"__\n",
    "- title (__plt.title()__) with __\"No. of unique Stickers with Album capacity of 600 and 600 Purchased Stickers\"__\n"
   ]
  },
  {
   "cell_type": "code",
   "execution_count": null,
   "metadata": {},
   "outputs": [],
   "source": []
  },
  {
   "cell_type": "markdown",
   "metadata": {},
   "source": [
    "## 4. Automation by writing a Function"
   ]
  },
  {
   "cell_type": "markdown",
   "metadata": {},
   "source": [
    "We can be proud of our project so far, but what if we want to change \n",
    "- the __album_capacity__\n",
    "- the number of __purchased_stickers__\n",
    "- the number of simulations (__sims__) we want to perform\n",
    "\n",
    "in order to perform __more complex analysis__ and __optimizations__ to solve more advanced problems?\n",
    "\n",
    "We should __automate__ our project by __writing a function__!"
   ]
  },
  {
   "cell_type": "markdown",
   "metadata": {},
   "source": [
    "Let´s define (__def__) a function called __StickerAlbum()__ with the following __parameters__ and __default values__ inside the parentheses:\n",
    "- __album_capacity__ = 600\n",
    "- __purchased_stickers__ = 800\n",
    "- __sims__ = 1000\n",
    "- __seed__ = 123\n",
    "\n",
    "This is called the __Function Header__.\n",
    "\n",
    "Add a return statement: __return__ the string __\"This is the result of Stickeralbum()\"__ in order to have a working function in the first place."
   ]
  },
  {
   "cell_type": "code",
   "execution_count": null,
   "metadata": {},
   "outputs": [],
   "source": []
  },
  {
   "cell_type": "markdown",
   "metadata": {},
   "source": [
    "__Call__ the function with __default parameters__ (simply __Stickeralbum()__) to check if everything is working so far."
   ]
  },
  {
   "cell_type": "code",
   "execution_count": null,
   "metadata": {},
   "outputs": [],
   "source": []
  },
  {
   "cell_type": "markdown",
   "metadata": {},
   "source": [
    "Perfect. So far we only have a Function Header and a more or less senseless return statement.<br><br> Now we need to add the __Function Body__. Therefore, __copy__ our __running code__ from a few cells above and __paste__ it as function body.<br> We need to make a few __adjustments__ to the Function Body:\n",
    "- insert __parameter names__ where required\n",
    "- the function shall __return__ the __Mean of all simulations/results__, hence we need to define and calculate the __Mean__.\n",
    "\n",
    "Finally, we want to __return__ the __Mean__ as the function´s result.\n",
    "\n",
    "Pay attention to various __indents__!"
   ]
  },
  {
   "cell_type": "code",
   "execution_count": null,
   "metadata": {},
   "outputs": [],
   "source": []
  },
  {
   "cell_type": "markdown",
   "metadata": {},
   "source": [
    "Alright, let´s check if everything is __correct__ and if we get the __same__ Mean as before (__442.44__). __Call StickerAlbum()__ with default parameters. "
   ]
  },
  {
   "cell_type": "code",
   "execution_count": null,
   "metadata": {},
   "outputs": [],
   "source": []
  },
  {
   "cell_type": "markdown",
   "metadata": {},
   "source": [
    "Wow, this is magic.<br><br> Now let´s __variate__ our parameters. __How many stickers__ do we have to buy to end up with a __Mean of 550__ stickers?<br> __Call the StickerAlbum()__ function many times and start with __purchased_stickers = 1485__ and __add 1__ in each consecutive call until we get at least __550__ as result."
   ]
  },
  {
   "cell_type": "code",
   "execution_count": null,
   "metadata": {},
   "outputs": [],
   "source": []
  },
  {
   "cell_type": "markdown",
   "metadata": {},
   "source": [
    "__1,491 stickers__ should do the job, right? <br><br>You might have noticed some __variability__ in the results, not only going up but sometimes also __going down__ when adding additional stickers. No mistake, simply the curse of randomness and statistics.<br><br> To __reduce random noise__ we need to __increase the number of simulations__. In statistics __10,000 simulations__ is a widely used number of simulations that results in acceptable variability of results.<br><br> Let´s simulate __1,491__ purchased_stickers __10,000__ times...  "
   ]
  },
  {
   "cell_type": "code",
   "execution_count": null,
   "metadata": {},
   "outputs": [],
   "source": []
  },
  {
   "cell_type": "markdown",
   "metadata": {},
   "source": [
    "Ok now your computer is having a tough time, 10,000 simulations __take some time and energy__...but __variability is much lower__ now and therefore __accuracy of our function is higher__!"
   ]
  },
  {
   "cell_type": "markdown",
   "metadata": {},
   "source": [
    "Apparently __basic Python__ has now __reached its limits__ with regard to __speed and performance__. But before we move to __the NumPy package__ to increase performance, we still want to __answer some more advanced questions__ with basic Python. __10 simulations__ should do the job as well for our purposes."
   ]
  },
  {
   "cell_type": "markdown",
   "metadata": {},
   "source": [
    "But before let´s __measure the speed__ of our function with __%timeit__ and compare it later with NumPy performance (after the statement __%timeit__, call our function StickerAlbum() with __default__ values)."
   ]
  },
  {
   "cell_type": "code",
   "execution_count": null,
   "metadata": {},
   "outputs": [],
   "source": []
  },
  {
   "cell_type": "markdown",
   "metadata": {},
   "source": [
    "## 5. Solving (some) advanced Problems / Optimization"
   ]
  },
  {
   "cell_type": "markdown",
   "metadata": {},
   "source": [
    "We figured out that, on average, we need to purchase 1,491 stickers in order to receive 550 unique stickers. However this was solved manually by __trial and error__. Now it´s up to you to create an __algorithm__ that __solves for the number of required stickers__. Start with simple/inefficient solutions and then try to increase smartness/complexity to improve performance.  "
   ]
  },
  {
   "cell_type": "markdown",
   "metadata": {},
   "source": [
    "### Naive / Inefficient Solution"
   ]
  },
  {
   "cell_type": "markdown",
   "metadata": {},
   "source": [
    "Hint: Our __target__ is __550 unique stickers__, and we start randomly with 800 purchased_stickers (__random_start = 800__). <br>Call the StickerAlbum() function with these parameters (__purchased_stickers = random_start__) and then __increase random_start__ __by 1__ until we reach our target. A __while loop__ may help! <br>Note: __10 simulations__ are enough (sims = 10)!"
   ]
  },
  {
   "cell_type": "code",
   "execution_count": null,
   "metadata": {},
   "outputs": [],
   "source": [
    "#create the variables target and random_start"
   ]
  },
  {
   "cell_type": "code",
   "execution_count": null,
   "metadata": {},
   "outputs": [],
   "source": [
    "#call the function StickerAlbum() and assign the variable result to the function´s output "
   ]
  },
  {
   "cell_type": "code",
   "execution_count": null,
   "metadata": {},
   "outputs": [],
   "source": [
    "#use a while loop that checks if result < target, and if so, increase random_start by 1 and recalculate result.\n",
    "#Print random_start and result for each iteration."
   ]
  },
  {
   "cell_type": "code",
   "execution_count": null,
   "metadata": {},
   "outputs": [],
   "source": [
    "#print the \"final\" random_start "
   ]
  },
  {
   "cell_type": "markdown",
   "metadata": {},
   "source": [
    "### Smart Solution (well done!!! ... now it´s your turn to find a smarter solution...or watch the solution video ;-))"
   ]
  },
  {
   "cell_type": "code",
   "execution_count": null,
   "metadata": {},
   "outputs": [],
   "source": []
  },
  {
   "cell_type": "code",
   "execution_count": null,
   "metadata": {},
   "outputs": [],
   "source": []
  },
  {
   "cell_type": "code",
   "execution_count": null,
   "metadata": {},
   "outputs": [],
   "source": []
  },
  {
   "cell_type": "code",
   "execution_count": null,
   "metadata": {},
   "outputs": [],
   "source": []
  }
 ],
 "metadata": {
  "kernelspec": {
   "display_name": "Python 3",
   "language": "python",
   "name": "python3"
  },
  "language_info": {
   "codemirror_mode": {
    "name": "ipython",
    "version": 3
   },
   "file_extension": ".py",
   "mimetype": "text/x-python",
   "name": "python",
   "nbconvert_exporter": "python",
   "pygments_lexer": "ipython3",
   "version": "3.7.0"
  }
 },
 "nbformat": 4,
 "nbformat_minor": 2
}
