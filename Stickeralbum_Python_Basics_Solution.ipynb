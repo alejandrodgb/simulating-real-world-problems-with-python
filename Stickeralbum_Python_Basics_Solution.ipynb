{
 "cells": [
  {
   "cell_type": "markdown",
   "metadata": {},
   "source": [
    "# The Sticker Album Challange\n",
    "\n",
    "## Solution with Python Standard Library\n"
   ]
  },
  {
   "cell_type": "markdown",
   "metadata": {},
   "source": [
    "## 1. Getting startet...one simulation"
   ]
  },
  {
   "cell_type": "markdown",
   "metadata": {},
   "source": [
    "Your Sticker Album has a capacity of 600 unique Stickers (consecutively numbered from 1 to 600) and your budget allows you to buy 800 stickers, hoping to complete the album with max 200 duplicates...(naive start of the game...)\n",
    "\n",
    "We assign \n",
    "- __600__ to the variable __album_capacity__\n",
    "- __800__ to the variable __purchased_stickers__"
   ]
  },
  {
   "cell_type": "code",
   "execution_count": 1,
   "metadata": {},
   "outputs": [],
   "source": [
    "album_capacity = 600\n",
    "purchased_stickers = 800"
   ]
  },
  {
   "cell_type": "markdown",
   "metadata": {},
   "source": [
    "Before we can simulate the random purchase of stickers, we have to __import the \"random\" module__ first..."
   ]
  },
  {
   "cell_type": "code",
   "execution_count": 2,
   "metadata": {},
   "outputs": [],
   "source": [
    "import random"
   ]
  },
  {
   "cell_type": "markdown",
   "metadata": {},
   "source": [
    "Now let´s simulate the random __purchase of one sticker__. Use __random.randint__ and keep in mind that stickers are consecutively numbered from __1 to 600__."
   ]
  },
  {
   "cell_type": "code",
   "execution_count": 3,
   "metadata": {
    "scrolled": true
   },
   "outputs": [
    {
     "data": {
      "text/plain": [
       "322"
      ]
     },
     "execution_count": 3,
     "metadata": {},
     "output_type": "execute_result"
    }
   ],
   "source": [
    "random.randint(1,600)"
   ]
  },
  {
   "cell_type": "markdown",
   "metadata": {
    "collapsed": true
   },
   "source": [
    "Alright, that works. Let´s now simulate the random __purchase of 800 stickers__ by using a __for loop__ (using __range(purchased_stickers)__). <br> <br>  Before we start looping, we need to \n",
    "- buy our Sticker album by __creating an empty list__ called __album__\n",
    "- set __random.seed__ to __123__ in order to create \"pseudo-random\" numbers which enables you to exactly replicate my simulation process.<br><br>\n",
    "\n",
    "Once we have finished these two steps, we can \n",
    "- use a __for loop__\n",
    "- __name__ each randomly created number __sticker__\n",
    "- and __append__ each sticker to our __album__. "
   ]
  },
  {
   "cell_type": "code",
   "execution_count": 4,
   "metadata": {},
   "outputs": [],
   "source": [
    "album = []\n",
    "random.seed(123)\n",
    "\n",
    "for i in range(purchased_stickers):\n",
    "    sticker = random.randint(1,600)\n",
    "    album.append(sticker)"
   ]
  },
  {
   "cell_type": "markdown",
   "metadata": {
    "collapsed": true
   },
   "source": [
    "Let´s inspect our album by __printing__ it and verify that the total number of stickers is indeed 800 (__len(album)__). "
   ]
  },
  {
   "cell_type": "code",
   "execution_count": 5,
   "metadata": {
    "scrolled": true
   },
   "outputs": [
    {
     "data": {
      "text/plain": [
       "[54,\n",
       " 275,\n",
       " 90,\n",
       " 418,\n",
       " 273,\n",
       " 111,\n",
       " 40,\n",
       " 389,\n",
       " 550,\n",
       " 576,\n",
       " 341,\n",
       " 349,\n",
       " 54,\n",
       " 164,\n",
       " 139,\n",
       " 346,\n",
       " 575,\n",
       " 342,\n",
       " 252,\n",
       " 168,\n",
       " 2,\n",
       " 447,\n",
       " 90,\n",
       " 387,\n",
       " 72,\n",
       " 7,\n",
       " 324,\n",
       " 460,\n",
       " 105,\n",
       " 45,\n",
       " 95,\n",
       " 146,\n",
       " 130,\n",
       " 22,\n",
       " 299,\n",
       " 441,\n",
       " 588,\n",
       " 489,\n",
       " 272,\n",
       " 481,\n",
       " 38,\n",
       " 313,\n",
       " 352,\n",
       " 535,\n",
       " 495,\n",
       " 212,\n",
       " 540,\n",
       " 579,\n",
       " 323,\n",
       " 13,\n",
       " 408,\n",
       " 526,\n",
       " 445,\n",
       " 552,\n",
       " 498,\n",
       " 534,\n",
       " 430,\n",
       " 384,\n",
       " 523,\n",
       " 33,\n",
       " 186,\n",
       " 85,\n",
       " 499,\n",
       " 269,\n",
       " 175,\n",
       " 343,\n",
       " 346,\n",
       " 568,\n",
       " 401,\n",
       " 76,\n",
       " 468,\n",
       " 397,\n",
       " 587,\n",
       " 345,\n",
       " 17,\n",
       " 194,\n",
       " 91,\n",
       " 373,\n",
       " 14,\n",
       " 361,\n",
       " 235,\n",
       " 416,\n",
       " 545,\n",
       " 514,\n",
       " 62,\n",
       " 295,\n",
       " 507,\n",
       " 239,\n",
       " 558,\n",
       " 496,\n",
       " 182,\n",
       " 158,\n",
       " 550,\n",
       " 456,\n",
       " 388,\n",
       " 473,\n",
       " 46,\n",
       " 11,\n",
       " 138,\n",
       " 468,\n",
       " 198,\n",
       " 22,\n",
       " 263,\n",
       " 361,\n",
       " 279,\n",
       " 445,\n",
       " 431,\n",
       " 1,\n",
       " 112,\n",
       " 65,\n",
       " 523,\n",
       " 364,\n",
       " 91,\n",
       " 85,\n",
       " 444,\n",
       " 9,\n",
       " 549,\n",
       " 387,\n",
       " 76,\n",
       " 560,\n",
       " 414,\n",
       " 30,\n",
       " 331,\n",
       " 269,\n",
       " 484,\n",
       " 34,\n",
       " 576,\n",
       " 343,\n",
       " 425,\n",
       " 357,\n",
       " 25,\n",
       " 168,\n",
       " 430,\n",
       " 66,\n",
       " 148,\n",
       " 382,\n",
       " 241,\n",
       " 81,\n",
       " 59,\n",
       " 532,\n",
       " 397,\n",
       " 551,\n",
       " 314,\n",
       " 150,\n",
       " 299,\n",
       " 399,\n",
       " 378,\n",
       " 130,\n",
       " 548,\n",
       " 346,\n",
       " 530,\n",
       " 123,\n",
       " 171,\n",
       " 396,\n",
       " 443,\n",
       " 64,\n",
       " 140,\n",
       " 466,\n",
       " 22,\n",
       " 358,\n",
       " 461,\n",
       " 462,\n",
       " 312,\n",
       " 440,\n",
       " 29,\n",
       " 163,\n",
       " 535,\n",
       " 333,\n",
       " 530,\n",
       " 528,\n",
       " 570,\n",
       " 141,\n",
       " 352,\n",
       " 513,\n",
       " 108,\n",
       " 559,\n",
       " 378,\n",
       " 231,\n",
       " 584,\n",
       " 349,\n",
       " 96,\n",
       " 279,\n",
       " 519,\n",
       " 250,\n",
       " 209,\n",
       " 330,\n",
       " 271,\n",
       " 408,\n",
       " 45,\n",
       " 513,\n",
       " 83,\n",
       " 202,\n",
       " 518,\n",
       " 205,\n",
       " 18,\n",
       " 199,\n",
       " 275,\n",
       " 579,\n",
       " 237,\n",
       " 88,\n",
       " 325,\n",
       " 86,\n",
       " 350,\n",
       " 568,\n",
       " 551,\n",
       " 137,\n",
       " 548,\n",
       " 139,\n",
       " 496,\n",
       " 505,\n",
       " 408,\n",
       " 29,\n",
       " 264,\n",
       " 592,\n",
       " 498,\n",
       " 349,\n",
       " 406,\n",
       " 230,\n",
       " 514,\n",
       " 130,\n",
       " 7,\n",
       " 507,\n",
       " 352,\n",
       " 599,\n",
       " 126,\n",
       " 54,\n",
       " 370,\n",
       " 472,\n",
       " 371,\n",
       " 431,\n",
       " 324,\n",
       " 368,\n",
       " 222,\n",
       " 460,\n",
       " 352,\n",
       " 198,\n",
       " 186,\n",
       " 392,\n",
       " 64,\n",
       " 425,\n",
       " 385,\n",
       " 513,\n",
       " 272,\n",
       " 180,\n",
       " 573,\n",
       " 386,\n",
       " 378,\n",
       " 71,\n",
       " 304,\n",
       " 126,\n",
       " 272,\n",
       " 515,\n",
       " 330,\n",
       " 57,\n",
       " 390,\n",
       " 53,\n",
       " 398,\n",
       " 306,\n",
       " 111,\n",
       " 477,\n",
       " 588,\n",
       " 333,\n",
       " 249,\n",
       " 457,\n",
       " 273,\n",
       " 450,\n",
       " 577,\n",
       " 586,\n",
       " 353,\n",
       " 255,\n",
       " 467,\n",
       " 514,\n",
       " 589,\n",
       " 282,\n",
       " 346,\n",
       " 50,\n",
       " 187,\n",
       " 127,\n",
       " 21,\n",
       " 439,\n",
       " 509,\n",
       " 136,\n",
       " 489,\n",
       " 548,\n",
       " 44,\n",
       " 482,\n",
       " 555,\n",
       " 145,\n",
       " 334,\n",
       " 379,\n",
       " 227,\n",
       " 33,\n",
       " 475,\n",
       " 517,\n",
       " 296,\n",
       " 595,\n",
       " 15,\n",
       " 329,\n",
       " 396,\n",
       " 234,\n",
       " 65,\n",
       " 260,\n",
       " 292,\n",
       " 173,\n",
       " 427,\n",
       " 367,\n",
       " 436,\n",
       " 45,\n",
       " 14,\n",
       " 509,\n",
       " 169,\n",
       " 203,\n",
       " 48,\n",
       " 276,\n",
       " 538,\n",
       " 170,\n",
       " 544,\n",
       " 199,\n",
       " 311,\n",
       " 512,\n",
       " 479,\n",
       " 230,\n",
       " 290,\n",
       " 541,\n",
       " 95,\n",
       " 106,\n",
       " 454,\n",
       " 559,\n",
       " 571,\n",
       " 287,\n",
       " 200,\n",
       " 534,\n",
       " 70,\n",
       " 402,\n",
       " 417,\n",
       " 460,\n",
       " 114,\n",
       " 62,\n",
       " 584,\n",
       " 444,\n",
       " 447,\n",
       " 530,\n",
       " 366,\n",
       " 158,\n",
       " 506,\n",
       " 138,\n",
       " 200,\n",
       " 217,\n",
       " 248,\n",
       " 39,\n",
       " 251,\n",
       " 214,\n",
       " 76,\n",
       " 414,\n",
       " 27,\n",
       " 12,\n",
       " 423,\n",
       " 330,\n",
       " 561,\n",
       " 31,\n",
       " 43,\n",
       " 253,\n",
       " 447,\n",
       " 299,\n",
       " 191,\n",
       " 312,\n",
       " 116,\n",
       " 290,\n",
       " 333,\n",
       " 218,\n",
       " 528,\n",
       " 27,\n",
       " 371,\n",
       " 157,\n",
       " 478,\n",
       " 231,\n",
       " 425,\n",
       " 228,\n",
       " 523,\n",
       " 446,\n",
       " 401,\n",
       " 574,\n",
       " 194,\n",
       " 400,\n",
       " 79,\n",
       " 509,\n",
       " 44,\n",
       " 294,\n",
       " 143,\n",
       " 488,\n",
       " 110,\n",
       " 130,\n",
       " 125,\n",
       " 472,\n",
       " 362,\n",
       " 566,\n",
       " 18,\n",
       " 456,\n",
       " 534,\n",
       " 362,\n",
       " 296,\n",
       " 372,\n",
       " 219,\n",
       " 400,\n",
       " 49,\n",
       " 109,\n",
       " 521,\n",
       " 98,\n",
       " 333,\n",
       " 85,\n",
       " 211,\n",
       " 394,\n",
       " 185,\n",
       " 429,\n",
       " 130,\n",
       " 487,\n",
       " 144,\n",
       " 6,\n",
       " 167,\n",
       " 89,\n",
       " 339,\n",
       " 34,\n",
       " 101,\n",
       " 150,\n",
       " 225,\n",
       " 469,\n",
       " 441,\n",
       " 206,\n",
       " 415,\n",
       " 62,\n",
       " 58,\n",
       " 156,\n",
       " 118,\n",
       " 473,\n",
       " 93,\n",
       " 138,\n",
       " 43,\n",
       " 368,\n",
       " 451,\n",
       " 212,\n",
       " 245,\n",
       " 241,\n",
       " 442,\n",
       " 350,\n",
       " 147,\n",
       " 92,\n",
       " 10,\n",
       " 299,\n",
       " 336,\n",
       " 411,\n",
       " 354,\n",
       " 235,\n",
       " 63,\n",
       " 60,\n",
       " 564,\n",
       " 67,\n",
       " 113,\n",
       " 256,\n",
       " 295,\n",
       " 241,\n",
       " 129,\n",
       " 571,\n",
       " 1,\n",
       " 557,\n",
       " 270,\n",
       " 431,\n",
       " 569,\n",
       " 377,\n",
       " 380,\n",
       " 134,\n",
       " 427,\n",
       " 35,\n",
       " 297,\n",
       " 359,\n",
       " 321,\n",
       " 4,\n",
       " 359,\n",
       " 519,\n",
       " 3,\n",
       " 302,\n",
       " 82,\n",
       " 388,\n",
       " 189,\n",
       " 334,\n",
       " 456,\n",
       " 108,\n",
       " 547,\n",
       " 204,\n",
       " 409,\n",
       " 73,\n",
       " 197,\n",
       " 211,\n",
       " 367,\n",
       " 438,\n",
       " 493,\n",
       " 291,\n",
       " 567,\n",
       " 558,\n",
       " 168,\n",
       " 397,\n",
       " 28,\n",
       " 267,\n",
       " 32,\n",
       " 166,\n",
       " 198,\n",
       " 375,\n",
       " 189,\n",
       " 104,\n",
       " 140,\n",
       " 104,\n",
       " 277,\n",
       " 125,\n",
       " 76,\n",
       " 370,\n",
       " 59,\n",
       " 261,\n",
       " 370,\n",
       " 134,\n",
       " 259,\n",
       " 421,\n",
       " 95,\n",
       " 267,\n",
       " 532,\n",
       " 568,\n",
       " 123,\n",
       " 548,\n",
       " 124,\n",
       " 338,\n",
       " 294,\n",
       " 316,\n",
       " 451,\n",
       " 241,\n",
       " 6,\n",
       " 96,\n",
       " 116,\n",
       " 104,\n",
       " 452,\n",
       " 398,\n",
       " 368,\n",
       " 185,\n",
       " 136,\n",
       " 397,\n",
       " 1,\n",
       " 426,\n",
       " 215,\n",
       " 246,\n",
       " 5,\n",
       " 428,\n",
       " 133,\n",
       " 86,\n",
       " 179,\n",
       " 549,\n",
       " 274,\n",
       " 432,\n",
       " 173,\n",
       " 400,\n",
       " 313,\n",
       " 67,\n",
       " 25,\n",
       " 125,\n",
       " 583,\n",
       " 404,\n",
       " 273,\n",
       " 583,\n",
       " 55,\n",
       " 557,\n",
       " 193,\n",
       " 318,\n",
       " 319,\n",
       " 561,\n",
       " 347,\n",
       " 24,\n",
       " 149,\n",
       " 316,\n",
       " 292,\n",
       " 205,\n",
       " 438,\n",
       " 218,\n",
       " 510,\n",
       " 47,\n",
       " 433,\n",
       " 68,\n",
       " 158,\n",
       " 175,\n",
       " 49,\n",
       " 564,\n",
       " 228,\n",
       " 65,\n",
       " 460,\n",
       " 593,\n",
       " 195,\n",
       " 411,\n",
       " 584,\n",
       " 445,\n",
       " 548,\n",
       " 374,\n",
       " 77,\n",
       " 222,\n",
       " 92,\n",
       " 450,\n",
       " 44,\n",
       " 548,\n",
       " 319,\n",
       " 32,\n",
       " 214,\n",
       " 37,\n",
       " 160,\n",
       " 538,\n",
       " 101,\n",
       " 52,\n",
       " 422,\n",
       " 484,\n",
       " 394,\n",
       " 342,\n",
       " 187,\n",
       " 415,\n",
       " 439,\n",
       " 107,\n",
       " 90,\n",
       " 45,\n",
       " 222,\n",
       " 156,\n",
       " 140,\n",
       " 598,\n",
       " 310,\n",
       " 374,\n",
       " 523,\n",
       " 431,\n",
       " 270,\n",
       " 291,\n",
       " 421,\n",
       " 189,\n",
       " 547,\n",
       " 542,\n",
       " 563,\n",
       " 94,\n",
       " 3,\n",
       " 595,\n",
       " 148,\n",
       " 533,\n",
       " 104,\n",
       " 465,\n",
       " 253,\n",
       " 565,\n",
       " 491,\n",
       " 31,\n",
       " 381,\n",
       " 304,\n",
       " 477,\n",
       " 383,\n",
       " 292,\n",
       " 552,\n",
       " 577,\n",
       " 347,\n",
       " 204,\n",
       " 174,\n",
       " 41,\n",
       " 384,\n",
       " 54,\n",
       " 600,\n",
       " 100,\n",
       " 503,\n",
       " 382,\n",
       " 432,\n",
       " 182,\n",
       " 108,\n",
       " 75,\n",
       " 238,\n",
       " 588,\n",
       " 393,\n",
       " 140,\n",
       " 519,\n",
       " 102,\n",
       " 500,\n",
       " 539,\n",
       " 238,\n",
       " 538,\n",
       " 510,\n",
       " 344,\n",
       " 323,\n",
       " 427,\n",
       " 274,\n",
       " 346,\n",
       " 493,\n",
       " 181,\n",
       " 241,\n",
       " 105,\n",
       " 55,\n",
       " 529,\n",
       " 148,\n",
       " 378,\n",
       " 42,\n",
       " 144,\n",
       " 151,\n",
       " 172,\n",
       " 409,\n",
       " 184,\n",
       " 572,\n",
       " 256,\n",
       " 521,\n",
       " 188,\n",
       " 498,\n",
       " 513,\n",
       " 6,\n",
       " 482,\n",
       " 160,\n",
       " 284,\n",
       " 359,\n",
       " 518,\n",
       " 450,\n",
       " 231,\n",
       " 69,\n",
       " 438,\n",
       " 484,\n",
       " 406,\n",
       " 327,\n",
       " 49,\n",
       " 440,\n",
       " 427,\n",
       " 91,\n",
       " 336,\n",
       " 455,\n",
       " 475,\n",
       " 15,\n",
       " 115,\n",
       " 39,\n",
       " 362,\n",
       " 374,\n",
       " 329,\n",
       " 245,\n",
       " 562,\n",
       " 576,\n",
       " 488,\n",
       " 350,\n",
       " 240,\n",
       " 34,\n",
       " 190,\n",
       " 130,\n",
       " 460,\n",
       " 208,\n",
       " 481,\n",
       " 439,\n",
       " 15,\n",
       " 357,\n",
       " 129,\n",
       " 276,\n",
       " 366,\n",
       " 558,\n",
       " 319,\n",
       " 74,\n",
       " 355,\n",
       " 211,\n",
       " 49,\n",
       " 121,\n",
       " 572,\n",
       " 132,\n",
       " 530,\n",
       " 11,\n",
       " 498,\n",
       " 528,\n",
       " 431,\n",
       " 410,\n",
       " 512,\n",
       " 66,\n",
       " 193,\n",
       " 188,\n",
       " 358,\n",
       " 235,\n",
       " 337,\n",
       " 425,\n",
       " 501,\n",
       " 120,\n",
       " 406,\n",
       " 76,\n",
       " 368,\n",
       " 522,\n",
       " 385,\n",
       " 105,\n",
       " 201,\n",
       " 264,\n",
       " 92,\n",
       " 124,\n",
       " 378,\n",
       " 180,\n",
       " 195,\n",
       " 85,\n",
       " 67,\n",
       " 433,\n",
       " 460,\n",
       " 448,\n",
       " 459,\n",
       " 42,\n",
       " 425,\n",
       " 53,\n",
       " 97,\n",
       " 307,\n",
       " 520,\n",
       " 403,\n",
       " 386,\n",
       " 341]"
      ]
     },
     "execution_count": 5,
     "metadata": {},
     "output_type": "execute_result"
    }
   ],
   "source": [
    "album"
   ]
  },
  {
   "cell_type": "code",
   "execution_count": 6,
   "metadata": {},
   "outputs": [
    {
     "data": {
      "text/plain": [
       "800"
      ]
     },
     "execution_count": 6,
     "metadata": {},
     "output_type": "execute_result"
    }
   ],
   "source": [
    "len(album)"
   ]
  },
  {
   "cell_type": "markdown",
   "metadata": {},
   "source": [
    "Do you think we have a complete album and our naive approach is working? Let´s check how many __unique Stickers__ and how many __duplicates__ we have. We should at least have 200 duplicates that we cannot paste into the album.<br><br> Use __set(list)__ to transform the list object album into a __set object__ and we get all unique stickers (assign the variable __unique__)."
   ]
  },
  {
   "cell_type": "code",
   "execution_count": 7,
   "metadata": {},
   "outputs": [
    {
     "data": {
      "text/plain": [
       "{1,\n",
       " 2,\n",
       " 3,\n",
       " 4,\n",
       " 5,\n",
       " 6,\n",
       " 7,\n",
       " 9,\n",
       " 10,\n",
       " 11,\n",
       " 12,\n",
       " 13,\n",
       " 14,\n",
       " 15,\n",
       " 17,\n",
       " 18,\n",
       " 21,\n",
       " 22,\n",
       " 24,\n",
       " 25,\n",
       " 27,\n",
       " 28,\n",
       " 29,\n",
       " 30,\n",
       " 31,\n",
       " 32,\n",
       " 33,\n",
       " 34,\n",
       " 35,\n",
       " 37,\n",
       " 38,\n",
       " 39,\n",
       " 40,\n",
       " 41,\n",
       " 42,\n",
       " 43,\n",
       " 44,\n",
       " 45,\n",
       " 46,\n",
       " 47,\n",
       " 48,\n",
       " 49,\n",
       " 50,\n",
       " 52,\n",
       " 53,\n",
       " 54,\n",
       " 55,\n",
       " 57,\n",
       " 58,\n",
       " 59,\n",
       " 60,\n",
       " 62,\n",
       " 63,\n",
       " 64,\n",
       " 65,\n",
       " 66,\n",
       " 67,\n",
       " 68,\n",
       " 69,\n",
       " 70,\n",
       " 71,\n",
       " 72,\n",
       " 73,\n",
       " 74,\n",
       " 75,\n",
       " 76,\n",
       " 77,\n",
       " 79,\n",
       " 81,\n",
       " 82,\n",
       " 83,\n",
       " 85,\n",
       " 86,\n",
       " 88,\n",
       " 89,\n",
       " 90,\n",
       " 91,\n",
       " 92,\n",
       " 93,\n",
       " 94,\n",
       " 95,\n",
       " 96,\n",
       " 97,\n",
       " 98,\n",
       " 100,\n",
       " 101,\n",
       " 102,\n",
       " 104,\n",
       " 105,\n",
       " 106,\n",
       " 107,\n",
       " 108,\n",
       " 109,\n",
       " 110,\n",
       " 111,\n",
       " 112,\n",
       " 113,\n",
       " 114,\n",
       " 115,\n",
       " 116,\n",
       " 118,\n",
       " 120,\n",
       " 121,\n",
       " 123,\n",
       " 124,\n",
       " 125,\n",
       " 126,\n",
       " 127,\n",
       " 129,\n",
       " 130,\n",
       " 132,\n",
       " 133,\n",
       " 134,\n",
       " 136,\n",
       " 137,\n",
       " 138,\n",
       " 139,\n",
       " 140,\n",
       " 141,\n",
       " 143,\n",
       " 144,\n",
       " 145,\n",
       " 146,\n",
       " 147,\n",
       " 148,\n",
       " 149,\n",
       " 150,\n",
       " 151,\n",
       " 156,\n",
       " 157,\n",
       " 158,\n",
       " 160,\n",
       " 163,\n",
       " 164,\n",
       " 166,\n",
       " 167,\n",
       " 168,\n",
       " 169,\n",
       " 170,\n",
       " 171,\n",
       " 172,\n",
       " 173,\n",
       " 174,\n",
       " 175,\n",
       " 179,\n",
       " 180,\n",
       " 181,\n",
       " 182,\n",
       " 184,\n",
       " 185,\n",
       " 186,\n",
       " 187,\n",
       " 188,\n",
       " 189,\n",
       " 190,\n",
       " 191,\n",
       " 193,\n",
       " 194,\n",
       " 195,\n",
       " 197,\n",
       " 198,\n",
       " 199,\n",
       " 200,\n",
       " 201,\n",
       " 202,\n",
       " 203,\n",
       " 204,\n",
       " 205,\n",
       " 206,\n",
       " 208,\n",
       " 209,\n",
       " 211,\n",
       " 212,\n",
       " 214,\n",
       " 215,\n",
       " 217,\n",
       " 218,\n",
       " 219,\n",
       " 222,\n",
       " 225,\n",
       " 227,\n",
       " 228,\n",
       " 230,\n",
       " 231,\n",
       " 234,\n",
       " 235,\n",
       " 237,\n",
       " 238,\n",
       " 239,\n",
       " 240,\n",
       " 241,\n",
       " 245,\n",
       " 246,\n",
       " 248,\n",
       " 249,\n",
       " 250,\n",
       " 251,\n",
       " 252,\n",
       " 253,\n",
       " 255,\n",
       " 256,\n",
       " 259,\n",
       " 260,\n",
       " 261,\n",
       " 263,\n",
       " 264,\n",
       " 267,\n",
       " 269,\n",
       " 270,\n",
       " 271,\n",
       " 272,\n",
       " 273,\n",
       " 274,\n",
       " 275,\n",
       " 276,\n",
       " 277,\n",
       " 279,\n",
       " 282,\n",
       " 284,\n",
       " 287,\n",
       " 290,\n",
       " 291,\n",
       " 292,\n",
       " 294,\n",
       " 295,\n",
       " 296,\n",
       " 297,\n",
       " 299,\n",
       " 302,\n",
       " 304,\n",
       " 306,\n",
       " 307,\n",
       " 310,\n",
       " 311,\n",
       " 312,\n",
       " 313,\n",
       " 314,\n",
       " 316,\n",
       " 318,\n",
       " 319,\n",
       " 321,\n",
       " 323,\n",
       " 324,\n",
       " 325,\n",
       " 327,\n",
       " 329,\n",
       " 330,\n",
       " 331,\n",
       " 333,\n",
       " 334,\n",
       " 336,\n",
       " 337,\n",
       " 338,\n",
       " 339,\n",
       " 341,\n",
       " 342,\n",
       " 343,\n",
       " 344,\n",
       " 345,\n",
       " 346,\n",
       " 347,\n",
       " 349,\n",
       " 350,\n",
       " 352,\n",
       " 353,\n",
       " 354,\n",
       " 355,\n",
       " 357,\n",
       " 358,\n",
       " 359,\n",
       " 361,\n",
       " 362,\n",
       " 364,\n",
       " 366,\n",
       " 367,\n",
       " 368,\n",
       " 370,\n",
       " 371,\n",
       " 372,\n",
       " 373,\n",
       " 374,\n",
       " 375,\n",
       " 377,\n",
       " 378,\n",
       " 379,\n",
       " 380,\n",
       " 381,\n",
       " 382,\n",
       " 383,\n",
       " 384,\n",
       " 385,\n",
       " 386,\n",
       " 387,\n",
       " 388,\n",
       " 389,\n",
       " 390,\n",
       " 392,\n",
       " 393,\n",
       " 394,\n",
       " 396,\n",
       " 397,\n",
       " 398,\n",
       " 399,\n",
       " 400,\n",
       " 401,\n",
       " 402,\n",
       " 403,\n",
       " 404,\n",
       " 406,\n",
       " 408,\n",
       " 409,\n",
       " 410,\n",
       " 411,\n",
       " 414,\n",
       " 415,\n",
       " 416,\n",
       " 417,\n",
       " 418,\n",
       " 421,\n",
       " 422,\n",
       " 423,\n",
       " 425,\n",
       " 426,\n",
       " 427,\n",
       " 428,\n",
       " 429,\n",
       " 430,\n",
       " 431,\n",
       " 432,\n",
       " 433,\n",
       " 436,\n",
       " 438,\n",
       " 439,\n",
       " 440,\n",
       " 441,\n",
       " 442,\n",
       " 443,\n",
       " 444,\n",
       " 445,\n",
       " 446,\n",
       " 447,\n",
       " 448,\n",
       " 450,\n",
       " 451,\n",
       " 452,\n",
       " 454,\n",
       " 455,\n",
       " 456,\n",
       " 457,\n",
       " 459,\n",
       " 460,\n",
       " 461,\n",
       " 462,\n",
       " 465,\n",
       " 466,\n",
       " 467,\n",
       " 468,\n",
       " 469,\n",
       " 472,\n",
       " 473,\n",
       " 475,\n",
       " 477,\n",
       " 478,\n",
       " 479,\n",
       " 481,\n",
       " 482,\n",
       " 484,\n",
       " 487,\n",
       " 488,\n",
       " 489,\n",
       " 491,\n",
       " 493,\n",
       " 495,\n",
       " 496,\n",
       " 498,\n",
       " 499,\n",
       " 500,\n",
       " 501,\n",
       " 503,\n",
       " 505,\n",
       " 506,\n",
       " 507,\n",
       " 509,\n",
       " 510,\n",
       " 512,\n",
       " 513,\n",
       " 514,\n",
       " 515,\n",
       " 517,\n",
       " 518,\n",
       " 519,\n",
       " 520,\n",
       " 521,\n",
       " 522,\n",
       " 523,\n",
       " 526,\n",
       " 528,\n",
       " 529,\n",
       " 530,\n",
       " 532,\n",
       " 533,\n",
       " 534,\n",
       " 535,\n",
       " 538,\n",
       " 539,\n",
       " 540,\n",
       " 541,\n",
       " 542,\n",
       " 544,\n",
       " 545,\n",
       " 547,\n",
       " 548,\n",
       " 549,\n",
       " 550,\n",
       " 551,\n",
       " 552,\n",
       " 555,\n",
       " 557,\n",
       " 558,\n",
       " 559,\n",
       " 560,\n",
       " 561,\n",
       " 562,\n",
       " 563,\n",
       " 564,\n",
       " 565,\n",
       " 566,\n",
       " 567,\n",
       " 568,\n",
       " 569,\n",
       " 570,\n",
       " 571,\n",
       " 572,\n",
       " 573,\n",
       " 574,\n",
       " 575,\n",
       " 576,\n",
       " 577,\n",
       " 579,\n",
       " 583,\n",
       " 584,\n",
       " 586,\n",
       " 587,\n",
       " 588,\n",
       " 589,\n",
       " 592,\n",
       " 593,\n",
       " 595,\n",
       " 598,\n",
       " 599,\n",
       " 600}"
      ]
     },
     "execution_count": 7,
     "metadata": {},
     "output_type": "execute_result"
    }
   ],
   "source": [
    "unique = set(album)\n",
    "unique"
   ]
  },
  {
   "cell_type": "markdown",
   "metadata": {},
   "source": [
    "Use the __len() function__ to determine the number of unique stickers in our album."
   ]
  },
  {
   "cell_type": "code",
   "execution_count": 8,
   "metadata": {},
   "outputs": [
    {
     "data": {
      "text/plain": [
       "451"
      ]
     },
     "execution_count": 8,
     "metadata": {},
     "output_type": "execute_result"
    }
   ],
   "source": [
    "len(unique)"
   ]
  },
  {
   "cell_type": "markdown",
   "metadata": {},
   "source": [
    "Ok, we have __451 unique stickers__. Our album is 75% complete. "
   ]
  },
  {
   "cell_type": "markdown",
   "metadata": {},
   "source": [
    "Let´s make a crosscheck and get all duplicates by\n",
    "- Creating a copy (__list.copy()__) of album and assign the variable __duplicates__.\n",
    "- remove from duplicates all elements of unique (__list.remove()__)"
   ]
  },
  {
   "cell_type": "code",
   "execution_count": 9,
   "metadata": {},
   "outputs": [],
   "source": [
    "duplicates = album.copy()\n",
    "for i in unique:\n",
    "    duplicates.remove(i)"
   ]
  },
  {
   "cell_type": "markdown",
   "metadata": {},
   "source": [
    "Print duplicates and determine the __amount (len()) of duplicates__. Should be __349__."
   ]
  },
  {
   "cell_type": "code",
   "execution_count": 11,
   "metadata": {},
   "outputs": [
    {
     "data": {
      "text/plain": [
       "349"
      ]
     },
     "execution_count": 11,
     "metadata": {},
     "output_type": "execute_result"
    }
   ],
   "source": [
    "len(duplicates)"
   ]
  },
  {
   "cell_type": "markdown",
   "metadata": {
    "collapsed": true
   },
   "source": [
    "This works. Now let us focus on our task to write code that reflects reality. We can only add/paste a sticker to our album, if it is not already in our album. Therefore we should __introduce an if statement__ that is checking __if__ each randomly created __sticker__ is already __in__ our __album__. \n",
    "- If the sticker is already in our album, we are doing nothing (__pass__), \n",
    "- otherwise (__else__) we __append the sticker to our album__.\n",
    "\n",
    "__Copy__ the Code a few lines above and __include the if statement__ and then run the code again.  "
   ]
  },
  {
   "cell_type": "code",
   "execution_count": 15,
   "metadata": {},
   "outputs": [],
   "source": [
    "album = []\n",
    "random.seed(123)\n",
    "\n",
    "for i in range(purchased_stickers):\n",
    "    sticker = (random.randint(1,600))\n",
    "    if sticker in album: \n",
    "        pass\n",
    "    else: \n",
    "        album.append(sticker)"
   ]
  },
  {
   "cell_type": "markdown",
   "metadata": {
    "collapsed": true
   },
   "source": [
    "Perfect, let´s again inspect our album...How many __unique stickers__ do we have?"
   ]
  },
  {
   "cell_type": "code",
   "execution_count": 16,
   "metadata": {
    "collapsed": true
   },
   "outputs": [
    {
     "data": {
      "text/plain": [
       "[54,\n",
       " 275,\n",
       " 90,\n",
       " 418,\n",
       " 273,\n",
       " 111,\n",
       " 40,\n",
       " 389,\n",
       " 550,\n",
       " 576,\n",
       " 341,\n",
       " 349,\n",
       " 164,\n",
       " 139,\n",
       " 346,\n",
       " 575,\n",
       " 342,\n",
       " 252,\n",
       " 168,\n",
       " 2,\n",
       " 447,\n",
       " 387,\n",
       " 72,\n",
       " 7,\n",
       " 324,\n",
       " 460,\n",
       " 105,\n",
       " 45,\n",
       " 95,\n",
       " 146,\n",
       " 130,\n",
       " 22,\n",
       " 299,\n",
       " 441,\n",
       " 588,\n",
       " 489,\n",
       " 272,\n",
       " 481,\n",
       " 38,\n",
       " 313,\n",
       " 352,\n",
       " 535,\n",
       " 495,\n",
       " 212,\n",
       " 540,\n",
       " 579,\n",
       " 323,\n",
       " 13,\n",
       " 408,\n",
       " 526,\n",
       " 445,\n",
       " 552,\n",
       " 498,\n",
       " 534,\n",
       " 430,\n",
       " 384,\n",
       " 523,\n",
       " 33,\n",
       " 186,\n",
       " 85,\n",
       " 499,\n",
       " 269,\n",
       " 175,\n",
       " 343,\n",
       " 568,\n",
       " 401,\n",
       " 76,\n",
       " 468,\n",
       " 397,\n",
       " 587,\n",
       " 345,\n",
       " 17,\n",
       " 194,\n",
       " 91,\n",
       " 373,\n",
       " 14,\n",
       " 361,\n",
       " 235,\n",
       " 416,\n",
       " 545,\n",
       " 514,\n",
       " 62,\n",
       " 295,\n",
       " 507,\n",
       " 239,\n",
       " 558,\n",
       " 496,\n",
       " 182,\n",
       " 158,\n",
       " 456,\n",
       " 388,\n",
       " 473,\n",
       " 46,\n",
       " 11,\n",
       " 138,\n",
       " 198,\n",
       " 263,\n",
       " 279,\n",
       " 431,\n",
       " 1,\n",
       " 112,\n",
       " 65,\n",
       " 364,\n",
       " 444,\n",
       " 9,\n",
       " 549,\n",
       " 560,\n",
       " 414,\n",
       " 30,\n",
       " 331,\n",
       " 484,\n",
       " 34,\n",
       " 425,\n",
       " 357,\n",
       " 25,\n",
       " 66,\n",
       " 148,\n",
       " 382,\n",
       " 241,\n",
       " 81,\n",
       " 59,\n",
       " 532,\n",
       " 551,\n",
       " 314,\n",
       " 150,\n",
       " 399,\n",
       " 378,\n",
       " 548,\n",
       " 530,\n",
       " 123,\n",
       " 171,\n",
       " 396,\n",
       " 443,\n",
       " 64,\n",
       " 140,\n",
       " 466,\n",
       " 358,\n",
       " 461,\n",
       " 462,\n",
       " 312,\n",
       " 440,\n",
       " 29,\n",
       " 163,\n",
       " 333,\n",
       " 528,\n",
       " 570,\n",
       " 141,\n",
       " 513,\n",
       " 108,\n",
       " 559,\n",
       " 231,\n",
       " 584,\n",
       " 96,\n",
       " 519,\n",
       " 250,\n",
       " 209,\n",
       " 330,\n",
       " 271,\n",
       " 83,\n",
       " 202,\n",
       " 518,\n",
       " 205,\n",
       " 18,\n",
       " 199,\n",
       " 237,\n",
       " 88,\n",
       " 325,\n",
       " 86,\n",
       " 350,\n",
       " 137,\n",
       " 505,\n",
       " 264,\n",
       " 592,\n",
       " 406,\n",
       " 230,\n",
       " 599,\n",
       " 126,\n",
       " 370,\n",
       " 472,\n",
       " 371,\n",
       " 368,\n",
       " 222,\n",
       " 392,\n",
       " 385,\n",
       " 180,\n",
       " 573,\n",
       " 386,\n",
       " 71,\n",
       " 304,\n",
       " 515,\n",
       " 57,\n",
       " 390,\n",
       " 53,\n",
       " 398,\n",
       " 306,\n",
       " 477,\n",
       " 249,\n",
       " 457,\n",
       " 450,\n",
       " 577,\n",
       " 586,\n",
       " 353,\n",
       " 255,\n",
       " 467,\n",
       " 589,\n",
       " 282,\n",
       " 50,\n",
       " 187,\n",
       " 127,\n",
       " 21,\n",
       " 439,\n",
       " 509,\n",
       " 136,\n",
       " 44,\n",
       " 482,\n",
       " 555,\n",
       " 145,\n",
       " 334,\n",
       " 379,\n",
       " 227,\n",
       " 475,\n",
       " 517,\n",
       " 296,\n",
       " 595,\n",
       " 15,\n",
       " 329,\n",
       " 234,\n",
       " 260,\n",
       " 292,\n",
       " 173,\n",
       " 427,\n",
       " 367,\n",
       " 436,\n",
       " 169,\n",
       " 203,\n",
       " 48,\n",
       " 276,\n",
       " 538,\n",
       " 170,\n",
       " 544,\n",
       " 311,\n",
       " 512,\n",
       " 479,\n",
       " 290,\n",
       " 541,\n",
       " 106,\n",
       " 454,\n",
       " 571,\n",
       " 287,\n",
       " 200,\n",
       " 70,\n",
       " 402,\n",
       " 417,\n",
       " 114,\n",
       " 366,\n",
       " 506,\n",
       " 217,\n",
       " 248,\n",
       " 39,\n",
       " 251,\n",
       " 214,\n",
       " 27,\n",
       " 12,\n",
       " 423,\n",
       " 561,\n",
       " 31,\n",
       " 43,\n",
       " 253,\n",
       " 191,\n",
       " 116,\n",
       " 218,\n",
       " 157,\n",
       " 478,\n",
       " 228,\n",
       " 446,\n",
       " 574,\n",
       " 400,\n",
       " 79,\n",
       " 294,\n",
       " 143,\n",
       " 488,\n",
       " 110,\n",
       " 125,\n",
       " 362,\n",
       " 566,\n",
       " 372,\n",
       " 219,\n",
       " 49,\n",
       " 109,\n",
       " 521,\n",
       " 98,\n",
       " 211,\n",
       " 394,\n",
       " 185,\n",
       " 429,\n",
       " 487,\n",
       " 144,\n",
       " 6,\n",
       " 167,\n",
       " 89,\n",
       " 339,\n",
       " 101,\n",
       " 225,\n",
       " 469,\n",
       " 206,\n",
       " 415,\n",
       " 58,\n",
       " 156,\n",
       " 118,\n",
       " 93,\n",
       " 451,\n",
       " 245,\n",
       " 442,\n",
       " 147,\n",
       " 92,\n",
       " 10,\n",
       " 336,\n",
       " 411,\n",
       " 354,\n",
       " 63,\n",
       " 60,\n",
       " 564,\n",
       " 67,\n",
       " 113,\n",
       " 256,\n",
       " 129,\n",
       " 557,\n",
       " 270,\n",
       " 569,\n",
       " 377,\n",
       " 380,\n",
       " 134,\n",
       " 35,\n",
       " 297,\n",
       " 359,\n",
       " 321,\n",
       " 4,\n",
       " 3,\n",
       " 302,\n",
       " 82,\n",
       " 189,\n",
       " 547,\n",
       " 204,\n",
       " 409,\n",
       " 73,\n",
       " 197,\n",
       " 438,\n",
       " 493,\n",
       " 291,\n",
       " 567,\n",
       " 28,\n",
       " 267,\n",
       " 32,\n",
       " 166,\n",
       " 375,\n",
       " 104,\n",
       " 277,\n",
       " 261,\n",
       " 259,\n",
       " 421,\n",
       " 124,\n",
       " 338,\n",
       " 316,\n",
       " 452,\n",
       " 426,\n",
       " 215,\n",
       " 246,\n",
       " 5,\n",
       " 428,\n",
       " 133,\n",
       " 179,\n",
       " 274,\n",
       " 432,\n",
       " 583,\n",
       " 404,\n",
       " 55,\n",
       " 193,\n",
       " 318,\n",
       " 319,\n",
       " 347,\n",
       " 24,\n",
       " 149,\n",
       " 510,\n",
       " 47,\n",
       " 433,\n",
       " 68,\n",
       " 593,\n",
       " 195,\n",
       " 374,\n",
       " 77,\n",
       " 37,\n",
       " 160,\n",
       " 52,\n",
       " 422,\n",
       " 107,\n",
       " 598,\n",
       " 310,\n",
       " 542,\n",
       " 563,\n",
       " 94,\n",
       " 533,\n",
       " 465,\n",
       " 565,\n",
       " 491,\n",
       " 381,\n",
       " 383,\n",
       " 174,\n",
       " 41,\n",
       " 600,\n",
       " 100,\n",
       " 503,\n",
       " 75,\n",
       " 238,\n",
       " 393,\n",
       " 102,\n",
       " 500,\n",
       " 539,\n",
       " 344,\n",
       " 181,\n",
       " 529,\n",
       " 42,\n",
       " 151,\n",
       " 172,\n",
       " 184,\n",
       " 572,\n",
       " 188,\n",
       " 284,\n",
       " 69,\n",
       " 327,\n",
       " 455,\n",
       " 115,\n",
       " 562,\n",
       " 240,\n",
       " 190,\n",
       " 208,\n",
       " 74,\n",
       " 355,\n",
       " 121,\n",
       " 132,\n",
       " 410,\n",
       " 337,\n",
       " 501,\n",
       " 120,\n",
       " 522,\n",
       " 201,\n",
       " 448,\n",
       " 459,\n",
       " 97,\n",
       " 307,\n",
       " 520,\n",
       " 403]"
      ]
     },
     "execution_count": 16,
     "metadata": {},
     "output_type": "execute_result"
    }
   ],
   "source": [
    "album"
   ]
  },
  {
   "cell_type": "code",
   "execution_count": 17,
   "metadata": {},
   "outputs": [
    {
     "data": {
      "text/plain": [
       "451"
      ]
     },
     "execution_count": 17,
     "metadata": {},
     "output_type": "execute_result"
    }
   ],
   "source": [
    "len(album)"
   ]
  },
  {
   "cell_type": "markdown",
   "metadata": {
    "collapsed": true
   },
   "source": [
    "Since we used the same random.seed parameter (123) we end up with the same result as before, __451 unique stickers__. This is disappointing as we require further 149 stickers to complete our album.  <br><br>\n",
    "Ok this was one simulation and maybe we had just bad luck... Let´s simulate this process many times (__many simulations__) and get many data points instead of only one data point. The resulting __probability distribution of all simulations__ will give us more information about what we can expect.  "
   ]
  },
  {
   "cell_type": "markdown",
   "metadata": {
    "collapsed": true
   },
   "source": [
    "## 2. Getting  probabilistic...with many simulations"
   ]
  },
  {
   "cell_type": "markdown",
   "metadata": {
    "collapsed": true
   },
   "source": [
    "Allright let´s start smoothly and set the number of simulations (__sims__) to __10__."
   ]
  },
  {
   "cell_type": "code",
   "execution_count": 18,
   "metadata": {},
   "outputs": [],
   "source": [
    "sims = 10"
   ]
  },
  {
   "cell_type": "markdown",
   "metadata": {
    "collapsed": true
   },
   "source": [
    "__Copy__ the code block from above and __add at the very top__: \n",
    "- an __empty list called results__ where you can store the result of each simulation (length of each album)\n",
    "- start another (outer) __for loop (range(sims))__ to make 10 simulations/albums.\n",
    "\n",
    " "
   ]
  },
  {
   "cell_type": "markdown",
   "metadata": {},
   "source": [
    "Next:\n",
    "- Calculate and assign the __length__ of each album __(len(album))__\n",
    "- At the very bottom of the outer for loop, __append__ the length of each album to the list __results__\n",
    "- mind the __indents__!"
   ]
  },
  {
   "cell_type": "code",
   "execution_count": 19,
   "metadata": {},
   "outputs": [],
   "source": [
    "results =[]\n",
    "random.seed(123)\n",
    "for m in range(sims):\n",
    "    album = []\n",
    "    #random.seed(123)\n",
    "    for i in range(purchased_stickers):\n",
    "        sticker = (random.randint(1,600))\n",
    "        if sticker in album:\n",
    "            pass\n",
    "        else:\n",
    "            album.append(sticker)\n",
    "    length = len(album)\n",
    "    results.append(length)"
   ]
  },
  {
   "cell_type": "markdown",
   "metadata": {
    "collapsed": true
   },
   "source": [
    "Let´s inspect the results... Do you notice anything strange?"
   ]
  },
  {
   "cell_type": "code",
   "execution_count": 20,
   "metadata": {},
   "outputs": [
    {
     "data": {
      "text/plain": [
       "[451, 446, 446, 444, 451, 435, 450, 436, 441, 447]"
      ]
     },
     "execution_count": 20,
     "metadata": {},
     "output_type": "execute_result"
    }
   ],
   "source": [
    "results"
   ]
  },
  {
   "cell_type": "markdown",
   "metadata": {
    "collapsed": true
   },
   "source": [
    "We have ten albums __each__ of them having __451 unique stickers__. Is this by chance? No!<br>\n",
    "We need to place the __random.seed__ statement __outside both for_loops__ to the very top of our code!\n",
    "<br>Let´s rearrange above and inspect the results again!..."
   ]
  },
  {
   "cell_type": "markdown",
   "metadata": {},
   "source": [
    "OK now we get __different results__ and it looks like it´s not really getting better than 451!"
   ]
  },
  {
   "cell_type": "markdown",
   "metadata": {},
   "source": [
    "Let´s further __increase simulations to 1000__ to further reduce the impact of randomness (random noise). This is important when we later calculate statistics like mean, median, etc.<br><br>\n",
    "Let´s continue. Copy the above code block and add __sims = 1000__ at the very top and run the code."
   ]
  },
  {
   "cell_type": "code",
   "execution_count": 21,
   "metadata": {},
   "outputs": [],
   "source": [
    "sims = 1000\n",
    "results =[]\n",
    "random.seed(123)\n",
    "for m in range(sims):\n",
    "    album = []\n",
    "    for i in range(purchased_stickers):\n",
    "        sticker = (random.randint(1,600))\n",
    "        if sticker in album:\n",
    "            pass\n",
    "        else:\n",
    "            album.append(sticker)\n",
    "    length = len(album)\n",
    "    results.append(length)"
   ]
  },
  {
   "cell_type": "markdown",
   "metadata": {},
   "source": [
    "Make a sanity check and call __len(results)__. This should be __1000__!"
   ]
  },
  {
   "cell_type": "code",
   "execution_count": 22,
   "metadata": {},
   "outputs": [
    {
     "data": {
      "text/plain": [
       "1000"
      ]
     },
     "execution_count": 22,
     "metadata": {},
     "output_type": "execute_result"
    }
   ],
   "source": [
    "len(results)"
   ]
  },
  {
   "cell_type": "markdown",
   "metadata": {},
   "source": [
    "## 3. Analyzing results and calculating statistics"
   ]
  },
  {
   "cell_type": "markdown",
   "metadata": {},
   "source": [
    "Perfect! Now it´s time to inspect our results in a more detailed way. Let´s calculate \n",
    "- the Minimum using __min()__ --> assign __Min__\n",
    "- the Maximum using __max()__ --> assign __Max__\n",
    "- the Mean using __sum()/len()__ --> assign __Mean__\n",
    "- the Median using __def Median()__ --> assign __Median__\n"
   ]
  },
  {
   "cell_type": "code",
   "execution_count": 23,
   "metadata": {},
   "outputs": [
    {
     "data": {
      "text/plain": [
       "418"
      ]
     },
     "execution_count": 23,
     "metadata": {},
     "output_type": "execute_result"
    }
   ],
   "source": [
    "Min = min(results)\n",
    "Min"
   ]
  },
  {
   "cell_type": "code",
   "execution_count": 24,
   "metadata": {},
   "outputs": [
    {
     "data": {
      "text/plain": [
       "471"
      ]
     },
     "execution_count": 24,
     "metadata": {},
     "output_type": "execute_result"
    }
   ],
   "source": [
    "Max = max(results)\n",
    "Max"
   ]
  },
  {
   "cell_type": "code",
   "execution_count": 25,
   "metadata": {},
   "outputs": [
    {
     "data": {
      "text/plain": [
       "442.44"
      ]
     },
     "execution_count": 25,
     "metadata": {},
     "output_type": "execute_result"
    }
   ],
   "source": [
    "Mean = sum(results)/len(results)\n",
    "Mean"
   ]
  },
  {
   "cell_type": "code",
   "execution_count": 26,
   "metadata": {},
   "outputs": [
    {
     "data": {
      "text/plain": [
       "443.0"
      ]
     },
     "execution_count": 26,
     "metadata": {},
     "output_type": "execute_result"
    }
   ],
   "source": [
    "def Med(lst):\n",
    "    n = len(lst)\n",
    "    if n < 1:\n",
    "            return None\n",
    "    if n % 2 == 1:\n",
    "            return sorted(lst)[n//2]\n",
    "    else:\n",
    "            return sum(sorted(lst)[n//2-1:n//2+1])/2.0\n",
    "Median = Med(results)\n",
    "Median"
   ]
  },
  {
   "cell_type": "markdown",
   "metadata": {},
   "source": [
    "On average we can expect approx. __442 unique__ stickers. But what could be more intuitive than __visualizing__ our  results to have a better understanding of the __probability distribution__ of results???\n",
    "<br><br>Let´s first \n",
    "- __import matplotlib.pyplot as plt__. \n",
    "- we require __%matplotlib inline__\n",
    "- and we set style to __\"seaborn\"__ (__plt.style.use()__)"
   ]
  },
  {
   "cell_type": "code",
   "execution_count": 27,
   "metadata": {},
   "outputs": [],
   "source": [
    "import matplotlib.pyplot as plt\n",
    "%matplotlib inline\n",
    "plt.style.use(\"seaborn\")"
   ]
  },
  {
   "cell_type": "markdown",
   "metadata": {},
   "source": [
    "Ok, we should visualize our results with a __Histogramm__, using __plt.hist()__.<br><br>Therefore we set\n",
    "the parameter __bins__ equal to __(Max-Min+1)__ and add\n",
    "- x-axis label (__plt.xlabel()__) with __\"Number of Unique Stickers\"__\n",
    "- y-axis label (__plt.ylabel()__) with __\"No. of Occurences\"__\n",
    "- title (__plt.title()__) with __\"No. of unique Stickers with Album capacity of 600 and 600 Purchased Stickers\"__\n"
   ]
  },
  {
   "cell_type": "code",
   "execution_count": 28,
   "metadata": {},
   "outputs": [
    {
     "data": {
      "image/png": "[encoded data removed]",
      "text/plain": [
       "<Figure size 432x288 with 1 Axes>"
      ]
     },
     "metadata": {
      "needs_background": "light"
     },
     "output_type": "display_data"
    }
   ],
   "source": [
    "plt.hist(results, bins = (Max-Min+1), density = False)\n",
    "plt.vlines(Mean, 0, 50)\n",
    "plt.xlabel(\"Number of Unique Stickers\")\n",
    "plt.ylabel(\"No. of Occurences\")\n",
    "plt.title(\"No. of unique Stickers with 800 Purchased Stickers\")\n",
    "plt.show()"
   ]
  },
  {
   "cell_type": "markdown",
   "metadata": {},
   "source": [
    "## 4. Automation by writing a Function"
   ]
  },
  {
   "cell_type": "markdown",
   "metadata": {},
   "source": [
    "We can be proud of our project so far, but what if we want to change \n",
    "- the __album_capacity__\n",
    "- the number of __purchased_stickers__\n",
    "- the number of simulations (__sims__) we want to perform\n",
    "\n",
    "in order to perform __more complex analysis__ and __optimizations__ to solve more advanced problems?\n",
    "\n",
    "We should __automate__ our project by __writing a function__!"
   ]
  },
  {
   "cell_type": "markdown",
   "metadata": {},
   "source": [
    "Let´s define (__def__) a function called __StickerAlbum()__ with the following __parameters__ and __default values__ inside the parentheses:\n",
    "- __album_capacity__ = 600\n",
    "- __purchased_stickers__ = 800\n",
    "- __sims__ = 1000\n",
    "- __seed__ = 123\n",
    "\n",
    "This is called the __Function Header__.\n",
    "\n",
    "Add a return statement: __return__ the string __\"This is the result of Stickeralbum()\"__ in order to have a working function in the first place."
   ]
  },
  {
   "cell_type": "code",
   "execution_count": 29,
   "metadata": {},
   "outputs": [],
   "source": [
    "def StickerAlbum(album_capacity = 600, purchased_stickers = 800, sims = 1000, seed = 123):\n",
    "    return \"This is the result of StickerAlbum()\""
   ]
  },
  {
   "cell_type": "markdown",
   "metadata": {},
   "source": [
    "__Call__ the function with __default parameters__ (simply __Stickeralbum()__) to check if everything is working so far."
   ]
  },
  {
   "cell_type": "code",
   "execution_count": 30,
   "metadata": {},
   "outputs": [
    {
     "data": {
      "text/plain": [
       "'This is the result of StickerAlbum()'"
      ]
     },
     "execution_count": 30,
     "metadata": {},
     "output_type": "execute_result"
    }
   ],
   "source": [
    "StickerAlbum()"
   ]
  },
  {
   "cell_type": "markdown",
   "metadata": {},
   "source": [
    "Perfect. So far we only have a Function Header and a more or less senseless return statement.<br><br> Now we need to add the __Function Body__. Therefore, __copy__ our __running code__ from a few cells above and __paste__ it as function body.<br> We need to make a few __adjustments__ to the Function Body:\n",
    "- insert __parameter names__ where required\n",
    "- the function shall __return__ the __Mean of all simulations/results__, hence we need to define and calculate the __Mean__.\n",
    "\n",
    "Finally, we want to __return__ the __Mean__ as the function´s result.\n",
    "\n",
    "Pay attention to various __indents__!"
   ]
  },
  {
   "cell_type": "code",
   "execution_count": 32,
   "metadata": {},
   "outputs": [],
   "source": [
    "def StickerAlbum(album_capacity = 600, purchased_stickers = 800, sims = 1000, seed = 123):\n",
    "    results =[]\n",
    "    random.seed(seed)\n",
    "    for m in range(sims):\n",
    "        album = []\n",
    "        for i in range(purchased_stickers):\n",
    "            sticker = (random.randint(1,album_capacity))\n",
    "            if sticker in album:\n",
    "                pass\n",
    "            else:\n",
    "                album.append(sticker)\n",
    "        length = len(album)\n",
    "        results.append(length)\n",
    "    Mean =  sum(results)/len(results)\n",
    "    return Mean"
   ]
  },
  {
   "cell_type": "markdown",
   "metadata": {},
   "source": [
    "Alright, let´s check if everything is __correct__ and if we get the __same__ Mean as before (__442.44__). __Call StickerAlbum()__ with default parameters. "
   ]
  },
  {
   "cell_type": "code",
   "execution_count": 33,
   "metadata": {},
   "outputs": [
    {
     "data": {
      "text/plain": [
       "442.44"
      ]
     },
     "execution_count": 33,
     "metadata": {},
     "output_type": "execute_result"
    }
   ],
   "source": [
    "StickerAlbum()"
   ]
  },
  {
   "cell_type": "markdown",
   "metadata": {},
   "source": [
    "Wow, this is magic.<br><br> Now let´s __variate__ our parameters. __How many stickers__ do we have to buy to end up with a __Mean of 550__ stickers?<br> __Call the StickerAlbum()__ function many times and start with __purchased_stickers = 1485__ and __add 1__ in each consecutive call until we get at least __550__ as result."
   ]
  },
  {
   "cell_type": "code",
   "execution_count": 34,
   "metadata": {},
   "outputs": [
    {
     "name": "stdout",
     "output_type": "stream",
     "text": [
      "549.491\n",
      "549.703\n",
      "549.521\n",
      "549.627\n",
      "549.805\n",
      "549.968\n",
      "550.017\n",
      "550.098\n",
      "549.9\n",
      "550.261\n"
     ]
    }
   ],
   "source": [
    "for i in range(1485, 1495):\n",
    "    print(StickerAlbum(purchased_stickers=i))"
   ]
  },
  {
   "cell_type": "markdown",
   "metadata": {},
   "source": [
    "__1,491 stickers__ should do the job, right? <br><br>You might have noticed some __variability__ in the results, not only going up but sometimes also __going down__ when adding additional stickers. No mistake, simply the curse of randomness and statistics.<br><br> To __reduce random noise__ we need to __increase the number of simulations__. In statistics __10,000 simulations__ is a widely used number of simulations that results in acceptable variability of results.<br><br> Let´s simulate __1,491__ purchased_stickers __10,000__ times...  "
   ]
  },
  {
   "cell_type": "code",
   "execution_count": 35,
   "metadata": {},
   "outputs": [
    {
     "data": {
      "text/plain": [
       "550.0731"
      ]
     },
     "execution_count": 35,
     "metadata": {},
     "output_type": "execute_result"
    }
   ],
   "source": [
    "StickerAlbum(purchased_stickers=1491, sims = 10000)"
   ]
  },
  {
   "cell_type": "markdown",
   "metadata": {},
   "source": [
    "Ok now your computer is having a tough time, 10,000 simulations __take some time and energy__...but __variability is much lower__ now and therefore __accuracy of our function is higher__!"
   ]
  },
  {
   "cell_type": "code",
   "execution_count": 37,
   "metadata": {
    "scrolled": true
   },
   "outputs": [
    {
     "name": "stdout",
     "output_type": "stream",
     "text": [
      "549.9609\n",
      "550.2303\n",
      "550.137\n",
      "550.1684\n",
      "550.2055\n",
      "550.1091\n",
      "550.0335\n",
      "550.1184\n",
      "550.1505\n",
      "550.1343\n"
     ]
    }
   ],
   "source": [
    "for i in range(10):\n",
    "    print(StickerAlbum(purchased_stickers=1491, sims = 10000, seed = i))"
   ]
  },
  {
   "cell_type": "markdown",
   "metadata": {},
   "source": [
    "Apparently __basic Python__ has now __reached its limits__ with regard to __speed and performance__. But before we move to __the NumPy package__ to increase performance, we still want to __answer some more advanced questions__ with basic Python. __10 simulations__ should do the job as well for our purposes."
   ]
  },
  {
   "cell_type": "markdown",
   "metadata": {},
   "source": [
    "But before let´s __measure the speed__ of our function with __%timeit__ and compare it later with NumPy performance (after the statement __%timeit__, call our function StickerAlbum() with __default__ values)."
   ]
  },
  {
   "cell_type": "code",
   "execution_count": 38,
   "metadata": {},
   "outputs": [
    {
     "name": "stdout",
     "output_type": "stream",
     "text": [
      "2.63 s ± 42.5 ms per loop (mean ± std. dev. of 7 runs, 1 loop each)\n"
     ]
    }
   ],
   "source": [
    "%timeit StickerAlbum()"
   ]
  },
  {
   "cell_type": "markdown",
   "metadata": {},
   "source": [
    "## 5. Solving (some) advanced Problems / Optimization"
   ]
  },
  {
   "cell_type": "markdown",
   "metadata": {},
   "source": [
    "We figured out that, on average, we need to purchase 1,491 stickers in order to receive 550 unique stickers. However this was solved manually by __trial and error__. Now it´s up to you to create an __algorithm__ that __solves for the number of required stickers__. Start with simple/inefficient solutions and then try to increase smartness/complexity to improve performance.  "
   ]
  },
  {
   "cell_type": "markdown",
   "metadata": {},
   "source": [
    "### Naive / Inefficient Solution"
   ]
  },
  {
   "cell_type": "markdown",
   "metadata": {},
   "source": [
    "Hint: Our __target__ is __550 unique stickers__, and we start randomly with 800 purchased_stickers (__random_start = 800__). <br>Call the StickerAlbum() function with these parameters (__purchased_stickers = random_start__) and then __increase random_start__ __by 1__ until we reach our target. A __while loop__ may help! <br>Note: __10 simulations__ are enough (sims = 10)!"
   ]
  },
  {
   "cell_type": "code",
   "execution_count": 41,
   "metadata": {},
   "outputs": [],
   "source": [
    "target = 550\n",
    "random_start = 800"
   ]
  },
  {
   "cell_type": "code",
   "execution_count": 42,
   "metadata": {},
   "outputs": [
    {
     "data": {
      "text/plain": [
       "444.7"
      ]
     },
     "execution_count": 42,
     "metadata": {},
     "output_type": "execute_result"
    }
   ],
   "source": [
    "result = StickerAlbum(purchased_stickers=random_start, sims = 10)\n",
    "result"
   ]
  },
  {
   "cell_type": "code",
   "execution_count": 43,
   "metadata": {},
   "outputs": [
    {
     "name": "stdout",
     "output_type": "stream",
     "text": [
      "801 444.8\n",
      "802 445.4\n",
      "803 445.3\n",
      "804 445.6\n",
      "805 445.5\n",
      "806 445.6\n",
      "807 446.2\n",
      "808 447.2\n",
      "809 446.7\n",
      "810 447.0\n",
      "811 446.7\n",
      "812 447.3\n",
      "813 448.0\n",
      "814 449.3\n",
      "815 449.4\n",
      "816 449.4\n",
      "817 449.0\n",
      "818 448.7\n",
      "819 449.1\n",
      "820 448.8\n",
      "821 449.5\n",
      "822 449.4\n",
      "823 449.7\n",
      "824 450.3\n",
      "825 450.4\n",
      "826 451.3\n",
      "827 451.0\n",
      "828 450.3\n",
      "829 450.1\n",
      "830 449.2\n",
      "831 450.0\n",
      "832 451.4\n",
      "833 451.0\n",
      "834 450.4\n",
      "835 450.3\n",
      "836 451.0\n",
      "837 451.9\n",
      "838 451.6\n",
      "839 451.3\n",
      "840 451.5\n",
      "841 451.6\n",
      "842 452.0\n",
      "843 452.4\n",
      "844 452.6\n",
      "845 452.7\n",
      "846 452.6\n",
      "847 452.0\n",
      "848 451.5\n",
      "849 452.1\n",
      "850 453.0\n",
      "851 453.1\n",
      "852 453.1\n",
      "853 453.2\n",
      "854 452.9\n",
      "855 453.4\n",
      "856 454.0\n",
      "857 453.6\n",
      "858 454.3\n",
      "859 454.8\n",
      "860 455.3\n",
      "861 455.6\n",
      "862 456.1\n",
      "863 456.4\n",
      "864 456.9\n",
      "865 456.6\n",
      "866 456.6\n",
      "867 456.7\n",
      "868 457.0\n",
      "869 457.8\n",
      "870 458.2\n",
      "871 458.6\n",
      "872 459.1\n",
      "873 459.7\n",
      "874 460.2\n",
      "875 461.3\n",
      "876 461.1\n",
      "877 461.4\n",
      "878 460.7\n",
      "879 461.1\n",
      "880 461.7\n",
      "881 462.1\n",
      "882 462.4\n",
      "883 463.8\n",
      "884 463.8\n",
      "885 463.9\n",
      "886 464.8\n",
      "887 465.1\n",
      "888 465.0\n",
      "889 465.5\n",
      "890 465.4\n",
      "891 465.8\n",
      "892 465.3\n",
      "893 465.1\n",
      "894 465.2\n",
      "895 465.4\n",
      "896 465.3\n",
      "897 465.1\n",
      "898 465.6\n",
      "899 465.7\n",
      "900 465.4\n",
      "901 466.1\n",
      "902 466.4\n",
      "903 467.5\n",
      "904 467.6\n",
      "905 468.3\n",
      "906 468.3\n",
      "907 468.8\n",
      "908 468.7\n",
      "909 469.2\n",
      "910 469.1\n",
      "911 468.3\n",
      "912 468.4\n",
      "913 468.8\n",
      "914 469.2\n",
      "915 468.8\n",
      "916 469.5\n",
      "917 469.7\n",
      "918 469.5\n",
      "919 468.9\n",
      "920 468.9\n",
      "921 468.9\n",
      "922 469.0\n",
      "923 469.4\n",
      "924 470.1\n",
      "925 470.4\n",
      "926 470.0\n",
      "927 470.8\n",
      "928 470.9\n",
      "929 471.5\n",
      "930 472.0\n",
      "931 472.1\n",
      "932 471.3\n",
      "933 471.6\n",
      "934 472.2\n",
      "935 472.3\n",
      "936 472.9\n",
      "937 473.1\n",
      "938 472.9\n",
      "939 472.1\n",
      "940 472.7\n",
      "941 473.5\n",
      "942 474.6\n",
      "943 474.7\n",
      "944 474.9\n",
      "945 475.3\n",
      "946 475.5\n",
      "947 475.4\n",
      "948 475.7\n",
      "949 476.0\n",
      "950 476.7\n",
      "951 477.9\n",
      "952 478.3\n",
      "953 478.7\n",
      "954 478.6\n",
      "955 478.3\n",
      "956 479.7\n",
      "957 480.4\n",
      "958 480.1\n",
      "959 480.0\n",
      "960 479.6\n",
      "961 479.3\n",
      "962 479.0\n",
      "963 479.2\n",
      "964 479.0\n",
      "965 479.3\n",
      "966 479.9\n",
      "967 479.7\n",
      "968 480.0\n",
      "969 480.6\n",
      "970 480.7\n",
      "971 481.2\n",
      "972 481.3\n",
      "973 481.3\n",
      "974 481.2\n",
      "975 481.5\n",
      "976 481.2\n",
      "977 482.4\n",
      "978 481.9\n",
      "979 482.0\n",
      "980 482.3\n",
      "981 482.9\n",
      "982 482.7\n",
      "983 483.2\n",
      "984 483.0\n",
      "985 483.7\n",
      "986 483.6\n",
      "987 483.6\n",
      "988 483.8\n",
      "989 484.0\n",
      "990 484.3\n",
      "991 484.2\n",
      "992 483.9\n",
      "993 484.8\n",
      "994 485.3\n",
      "995 485.7\n",
      "996 485.9\n",
      "997 486.5\n",
      "998 487.1\n",
      "999 486.8\n",
      "1000 487.3\n",
      "1001 487.4\n",
      "1002 487.4\n",
      "1003 487.6\n",
      "1004 486.8\n",
      "1005 487.5\n",
      "1006 487.4\n",
      "1007 487.8\n",
      "1008 487.7\n",
      "1009 488.0\n",
      "1010 487.9\n",
      "1011 487.9\n",
      "1012 488.1\n",
      "1013 488.9\n",
      "1014 489.2\n",
      "1015 489.2\n",
      "1016 489.1\n",
      "1017 489.2\n",
      "1018 489.6\n",
      "1019 489.6\n",
      "1020 490.0\n",
      "1021 490.0\n",
      "1022 489.4\n",
      "1023 489.6\n",
      "1024 489.8\n",
      "1025 489.3\n",
      "1026 489.0\n",
      "1027 489.5\n",
      "1028 489.3\n",
      "1029 489.0\n",
      "1030 489.1\n",
      "1031 489.3\n",
      "1032 489.3\n",
      "1033 489.8\n",
      "1034 490.1\n",
      "1035 490.1\n",
      "1036 490.7\n",
      "1037 490.7\n",
      "1038 490.7\n",
      "1039 491.1\n",
      "1040 491.1\n",
      "1041 491.0\n",
      "1042 490.6\n",
      "1043 490.5\n",
      "1044 490.6\n",
      "1045 491.0\n",
      "1046 492.1\n",
      "1047 492.2\n",
      "1048 492.8\n",
      "1049 493.2\n",
      "1050 493.4\n",
      "1051 493.8\n",
      "1052 494.3\n",
      "1053 494.5\n",
      "1054 495.0\n",
      "1055 495.3\n",
      "1056 495.6\n",
      "1057 495.9\n",
      "1058 495.5\n",
      "1059 495.6\n",
      "1060 495.9\n",
      "1061 495.8\n",
      "1062 495.9\n",
      "1063 495.7\n",
      "1064 496.3\n",
      "1065 496.1\n",
      "1066 496.7\n",
      "1067 496.9\n",
      "1068 497.1\n",
      "1069 497.6\n",
      "1070 497.9\n",
      "1071 497.9\n",
      "1072 497.9\n",
      "1073 497.6\n",
      "1074 497.7\n",
      "1075 497.9\n",
      "1076 497.8\n",
      "1077 498.0\n",
      "1078 497.7\n",
      "1079 498.6\n",
      "1080 498.3\n",
      "1081 498.5\n",
      "1082 498.7\n",
      "1083 499.0\n",
      "1084 499.7\n",
      "1085 500.4\n",
      "1086 501.0\n",
      "1087 501.2\n",
      "1088 501.0\n",
      "1089 500.9\n",
      "1090 501.1\n",
      "1091 501.6\n",
      "1092 501.7\n",
      "1093 502.3\n",
      "1094 502.9\n",
      "1095 502.8\n",
      "1096 503.2\n",
      "1097 503.7\n",
      "1098 503.1\n",
      "1099 504.1\n",
      "1100 504.3\n",
      "1101 504.5\n",
      "1102 504.4\n",
      "1103 504.6\n",
      "1104 505.2\n",
      "1105 505.3\n",
      "1106 505.2\n",
      "1107 505.4\n",
      "1108 505.7\n",
      "1109 506.5\n",
      "1110 506.9\n",
      "1111 506.6\n",
      "1112 507.0\n",
      "1113 507.0\n",
      "1114 506.7\n",
      "1115 506.2\n",
      "1116 507.0\n",
      "1117 508.1\n",
      "1118 508.4\n",
      "1119 507.9\n",
      "1120 507.9\n",
      "1121 507.7\n",
      "1122 507.4\n",
      "1123 508.3\n",
      "1124 508.5\n",
      "1125 508.9\n",
      "1126 509.3\n",
      "1127 509.4\n",
      "1128 509.5\n",
      "1129 509.8\n",
      "1130 510.4\n",
      "1131 510.4\n",
      "1132 510.6\n",
      "1133 510.7\n",
      "1134 511.1\n",
      "1135 510.8\n",
      "1136 511.0\n",
      "1137 510.9\n",
      "1138 511.1\n",
      "1139 510.8\n",
      "1140 511.0\n",
      "1141 511.2\n",
      "1142 511.7\n",
      "1143 512.0\n",
      "1144 511.9\n",
      "1145 512.3\n",
      "1146 512.0\n",
      "1147 511.9\n",
      "1148 511.8\n",
      "1149 511.7\n",
      "1150 511.8\n",
      "1151 511.7\n",
      "1152 512.1\n",
      "1153 511.9\n",
      "1154 511.6\n",
      "1155 511.5\n",
      "1156 511.3\n",
      "1157 511.3\n",
      "1158 511.5\n",
      "1159 512.4\n",
      "1160 512.3\n",
      "1161 512.1\n",
      "1162 512.1\n",
      "1163 512.6\n",
      "1164 512.6\n",
      "1165 512.6\n",
      "1166 512.7\n",
      "1167 512.9\n",
      "1168 512.9\n",
      "1169 512.9\n",
      "1170 512.8\n",
      "1171 512.7\n",
      "1172 512.7\n",
      "1173 512.4\n",
      "1174 512.0\n",
      "1175 512.4\n",
      "1176 512.4\n",
      "1177 513.0\n",
      "1178 513.1\n",
      "1179 513.3\n",
      "1180 513.3\n",
      "1181 513.6\n",
      "1182 514.3\n",
      "1183 513.6\n",
      "1184 514.2\n",
      "1185 514.5\n",
      "1186 515.0\n",
      "1187 515.3\n",
      "1188 515.6\n",
      "1189 516.2\n",
      "1190 516.0\n",
      "1191 516.4\n",
      "1192 516.9\n",
      "1193 517.1\n",
      "1194 517.4\n",
      "1195 517.4\n",
      "1196 517.7\n",
      "1197 518.4\n",
      "1198 518.6\n",
      "1199 518.9\n",
      "1200 518.8\n",
      "1201 519.4\n",
      "1202 519.4\n",
      "1203 519.8\n",
      "1204 519.4\n",
      "1205 519.8\n",
      "1206 519.6\n",
      "1207 519.6\n",
      "1208 520.2\n",
      "1209 520.3\n",
      "1210 520.5\n",
      "1211 520.5\n",
      "1212 521.0\n",
      "1213 520.3\n",
      "1214 520.5\n",
      "1215 520.9\n",
      "1216 521.1\n",
      "1217 521.3\n",
      "1218 521.5\n",
      "1219 522.3\n",
      "1220 522.5\n",
      "1221 522.8\n",
      "1222 522.9\n",
      "1223 523.3\n",
      "1224 524.1\n",
      "1225 524.4\n",
      "1226 524.8\n",
      "1227 524.8\n",
      "1228 524.4\n",
      "1229 524.6\n",
      "1230 524.7\n",
      "1231 525.0\n",
      "1232 524.4\n",
      "1233 524.8\n",
      "1234 525.2\n",
      "1235 525.1\n",
      "1236 524.9\n",
      "1237 525.5\n",
      "1238 525.8\n",
      "1239 525.8\n",
      "1240 525.9\n",
      "1241 526.4\n",
      "1242 526.2\n",
      "1243 526.4\n",
      "1244 526.0\n",
      "1245 525.7\n",
      "1246 525.7\n",
      "1247 525.6\n",
      "1248 526.1\n",
      "1249 526.3\n",
      "1250 526.0\n",
      "1251 525.9\n",
      "1252 525.7\n",
      "1253 526.0\n",
      "1254 526.7\n",
      "1255 527.5\n",
      "1256 528.2\n",
      "1257 528.3\n",
      "1258 528.2\n",
      "1259 528.5\n",
      "1260 528.6\n",
      "1261 528.5\n",
      "1262 529.2\n",
      "1263 529.0\n",
      "1264 529.2\n",
      "1265 529.1\n",
      "1266 528.9\n",
      "1267 529.3\n",
      "1268 528.7\n",
      "1269 528.6\n",
      "1270 528.1\n",
      "1271 528.2\n",
      "1272 528.3\n",
      "1273 528.4\n",
      "1274 528.5\n",
      "1275 528.3\n",
      "1276 527.7\n",
      "1277 528.4\n",
      "1278 528.5\n",
      "1279 528.1\n",
      "1280 528.6\n",
      "1281 528.3\n",
      "1282 528.4\n",
      "1283 528.3\n",
      "1284 527.9\n",
      "1285 528.2\n",
      "1286 528.5\n",
      "1287 528.1\n",
      "1288 528.5\n",
      "1289 528.4\n",
      "1290 528.4\n",
      "1291 528.5\n",
      "1292 528.3\n",
      "1293 528.8\n",
      "1294 528.7\n",
      "1295 529.4\n",
      "1296 529.6\n",
      "1297 530.0\n",
      "1298 530.2\n",
      "1299 529.7\n",
      "1300 529.6\n",
      "1301 529.3\n",
      "1302 529.5\n",
      "1303 529.5\n",
      "1304 529.7\n",
      "1305 529.9\n",
      "1306 529.6\n",
      "1307 529.8\n",
      "1308 529.9\n",
      "1309 529.8\n",
      "1310 530.9\n",
      "1311 531.0\n",
      "1312 530.9\n",
      "1313 531.1\n",
      "1314 530.8\n",
      "1315 531.4\n",
      "1316 531.4\n",
      "1317 531.9\n",
      "1318 532.3\n",
      "1319 532.7\n",
      "1320 532.9\n",
      "1321 533.0\n",
      "1322 532.9\n",
      "1323 532.8\n",
      "1324 533.2\n",
      "1325 533.5\n",
      "1326 533.5\n",
      "1327 533.4\n",
      "1328 533.8\n",
      "1329 534.0\n",
      "1330 534.3\n",
      "1331 534.5\n",
      "1332 534.7\n",
      "1333 534.7\n",
      "1334 534.1\n",
      "1335 534.0\n",
      "1336 533.4\n",
      "1337 533.3\n",
      "1338 533.2\n",
      "1339 533.5\n",
      "1340 533.9\n",
      "1341 533.8\n",
      "1342 533.9\n",
      "1343 534.0\n",
      "1344 533.8\n",
      "1345 533.9\n",
      "1346 533.7\n",
      "1347 534.0\n",
      "1348 534.2\n",
      "1349 534.7\n",
      "1350 534.9\n",
      "1351 534.9\n",
      "1352 535.2\n",
      "1353 535.2\n",
      "1354 535.1\n",
      "1355 535.2\n",
      "1356 535.3\n",
      "1357 535.6\n",
      "1358 535.5\n",
      "1359 535.8\n",
      "1360 536.6\n",
      "1361 536.1\n",
      "1362 536.4\n",
      "1363 536.6\n",
      "1364 536.8\n",
      "1365 537.0\n",
      "1366 537.0\n",
      "1367 537.3\n",
      "1368 537.5\n",
      "1369 537.4\n",
      "1370 537.6\n",
      "1371 537.9\n",
      "1372 538.3\n",
      "1373 538.7\n",
      "1374 539.0\n",
      "1375 539.2\n",
      "1376 538.7\n",
      "1377 539.2\n",
      "1378 539.3\n",
      "1379 539.7\n",
      "1380 539.8\n",
      "1381 540.0\n",
      "1382 539.9\n",
      "1383 539.8\n",
      "1384 539.5\n",
      "1385 539.6\n",
      "1386 539.7\n",
      "1387 540.2\n",
      "1388 540.5\n",
      "1389 540.4\n",
      "1390 540.5\n",
      "1391 540.4\n",
      "1392 540.6\n",
      "1393 540.8\n",
      "1394 541.1\n",
      "1395 541.4\n",
      "1396 541.8\n",
      "1397 541.7\n",
      "1398 541.7\n",
      "1399 541.6\n",
      "1400 542.2\n",
      "1401 542.6\n",
      "1402 542.9\n",
      "1403 542.8\n",
      "1404 543.3\n",
      "1405 543.6\n",
      "1406 543.5\n",
      "1407 543.8\n",
      "1408 543.5\n",
      "1409 543.5\n",
      "1410 543.6\n",
      "1411 543.9\n",
      "1412 544.5\n",
      "1413 544.8\n",
      "1414 545.4\n",
      "1415 545.5\n",
      "1416 545.6\n",
      "1417 545.8\n",
      "1418 546.6\n",
      "1419 547.4\n",
      "1420 547.4\n",
      "1421 547.9\n",
      "1422 548.3\n",
      "1423 549.4\n",
      "1424 549.1\n",
      "1425 549.3\n",
      "1426 549.5\n",
      "1427 549.4\n",
      "1428 549.8\n",
      "1429 549.8\n",
      "1430 550.1\n"
     ]
    }
   ],
   "source": [
    "while result < target:\n",
    "    random_start+=1\n",
    "    result = StickerAlbum(purchased_stickers=random_start, sims = 10)\n",
    "    print(random_start, result)"
   ]
  },
  {
   "cell_type": "code",
   "execution_count": 44,
   "metadata": {},
   "outputs": [
    {
     "data": {
      "text/plain": [
       "1430"
      ]
     },
     "execution_count": 44,
     "metadata": {},
     "output_type": "execute_result"
    }
   ],
   "source": [
    "random_start"
   ]
  },
  {
   "cell_type": "markdown",
   "metadata": {},
   "source": [
    "### Smart Solution (... now it´s your turn to find a smarter solution...or watch the solution video ;-))"
   ]
  },
  {
   "cell_type": "markdown",
   "metadata": {},
   "source": [
    "#### Intuition"
   ]
  },
  {
   "cell_type": "code",
   "execution_count": 45,
   "metadata": {},
   "outputs": [],
   "source": [
    "random_start = 800\n",
    "target = 550\n",
    "learning_rate = 1"
   ]
  },
  {
   "cell_type": "code",
   "execution_count": 52,
   "metadata": {},
   "outputs": [
    {
     "data": {
      "text/plain": [
       "483.6"
      ]
     },
     "execution_count": 52,
     "metadata": {},
     "output_type": "execute_result"
    }
   ],
   "source": [
    "result = StickerAlbum(album_capacity = 600, purchased_stickers = int(random_start), sims = 10, seed = 123)\n",
    "result"
   ]
  },
  {
   "cell_type": "code",
   "execution_count": 53,
   "metadata": {},
   "outputs": [
    {
     "data": {
      "text/plain": [
       "-66.39999999999998"
      ]
     },
     "execution_count": 53,
     "metadata": {},
     "output_type": "execute_result"
    }
   ],
   "source": [
    "delta = (result-target)\n",
    "delta"
   ]
  },
  {
   "cell_type": "code",
   "execution_count": 54,
   "metadata": {},
   "outputs": [
    {
     "data": {
      "text/plain": [
       "1053"
      ]
     },
     "execution_count": 54,
     "metadata": {},
     "output_type": "execute_result"
    }
   ],
   "source": [
    "random_start -= round(learning_rate * delta)\n",
    "random_start"
   ]
  },
  {
   "cell_type": "markdown",
   "metadata": {},
   "source": [
    "#### Automation"
   ]
  },
  {
   "cell_type": "code",
   "execution_count": 55,
   "metadata": {},
   "outputs": [],
   "source": [
    "random_start = 800\n",
    "target = 550\n",
    "learning_rate = 7\n",
    "epochs = 20"
   ]
  },
  {
   "cell_type": "code",
   "execution_count": 56,
   "metadata": {},
   "outputs": [
    {
     "name": "stdout",
     "output_type": "stream",
     "text": [
      "800 444.7\n",
      "1537 553.6\n",
      "1512 554.6\n",
      "1480 549.9\n",
      "1481 550.1\n",
      "1480 549.9\n",
      "1481 550.1\n",
      "1480 549.9\n",
      "1481 550.1\n",
      "1480 549.9\n",
      "1481 550.1\n",
      "1480 549.9\n",
      "1481 550.1\n",
      "1480 549.9\n",
      "1481 550.1\n",
      "1480 549.9\n",
      "1481 550.1\n",
      "1480 549.9\n",
      "1481 550.1\n",
      "1480 549.9\n"
     ]
    }
   ],
   "source": [
    "for _ in range(epochs):\n",
    "    result = StickerAlbum(album_capacity = 600, purchased_stickers = int(random_start), sims = 10, seed = 123)\n",
    "    delta = (result-target)\n",
    "    print(random_start, result)\n",
    "    random_start -= round(learning_rate * delta)"
   ]
  },
  {
   "cell_type": "markdown",
   "metadata": {},
   "source": [
    "#### Fine Tuning"
   ]
  },
  {
   "cell_type": "code",
   "execution_count": 57,
   "metadata": {},
   "outputs": [],
   "source": [
    "random_start = 800\n",
    "target = 550\n",
    "learning_rate = 7\n",
    "epochs = 20\n",
    "tolerance = 0.5"
   ]
  },
  {
   "cell_type": "code",
   "execution_count": 58,
   "metadata": {},
   "outputs": [
    {
     "name": "stdout",
     "output_type": "stream",
     "text": [
      "800 444.7\n",
      "1537 553.6\n",
      "1512 554.6\n",
      "1480 549.9\n"
     ]
    }
   ],
   "source": [
    "for _ in range(epochs):\n",
    "    result = StickerAlbum(album_capacity = 600, purchased_stickers = int(random_start), sims = 10, seed = 123)\n",
    "    delta = (result-target)\n",
    "    print(random_start, result)\n",
    "    if abs(delta)<tolerance:\n",
    "        break\n",
    "    else:\n",
    "        random_start -= round(learning_rate * delta)"
   ]
  },
  {
   "cell_type": "code",
   "execution_count": 59,
   "metadata": {},
   "outputs": [
    {
     "data": {
      "text/plain": [
       "1480"
      ]
     },
     "execution_count": 59,
     "metadata": {},
     "output_type": "execute_result"
    }
   ],
   "source": [
    "random_start"
   ]
  },
  {
   "cell_type": "markdown",
   "metadata": {},
   "source": [
    "### Writing a solver Function"
   ]
  },
  {
   "cell_type": "code",
   "execution_count": 64,
   "metadata": {},
   "outputs": [],
   "source": [
    "def optimize(album_capacity = 600, random_start = 800, sims = 10, seed = 123, \n",
    "             target = 550, learning_rate = 7, epochs = 20, tolerance = 0.5):\n",
    "    \n",
    "    for _ in range(epochs):\n",
    "        result = StickerAlbum(album_capacity = album_capacity, purchased_stickers = int(random_start), sims = sims, seed = seed)\n",
    "        delta = (result-target)\n",
    "        #print(random_start, result)\n",
    "        if abs(delta)<tolerance:\n",
    "            break\n",
    "        else:\n",
    "            random_start -= round(learning_rate * delta)\n",
    "    return random_start, result"
   ]
  },
  {
   "cell_type": "code",
   "execution_count": 61,
   "metadata": {},
   "outputs": [
    {
     "name": "stdout",
     "output_type": "stream",
     "text": [
      "800 442.44\n",
      "1553 554.841\n",
      "1519 552.32\n",
      "1503 550.971\n",
      "1496 550.43\n",
      "1493 549.9\n",
      "1494 550.261\n",
      "1492 550.098\n"
     ]
    },
    {
     "data": {
      "text/plain": [
       "(1492, 550.098)"
      ]
     },
     "execution_count": 61,
     "metadata": {},
     "output_type": "execute_result"
    }
   ],
   "source": [
    "optimize(sims = 1000, tolerance = 0.1)"
   ]
  },
  {
   "cell_type": "code",
   "execution_count": 65,
   "metadata": {},
   "outputs": [
    {
     "data": {
      "text/plain": [
       "(1060, 420.86)"
      ]
     },
     "execution_count": 65,
     "metadata": {},
     "output_type": "execute_result"
    }
   ],
   "source": [
    "optimize(album_capacity= 471, target = 421, random_start = 200, sims = 100, tolerance = 0.2)"
   ]
  },
  {
   "cell_type": "markdown",
   "metadata": {},
   "source": [
    "### Visualization"
   ]
  },
  {
   "cell_type": "code",
   "execution_count": 66,
   "metadata": {},
   "outputs": [],
   "source": [
    "import matplotlib.pyplot as plt\n",
    "%matplotlib inline\n",
    "plt.style.use(\"seaborn\")"
   ]
  },
  {
   "cell_type": "code",
   "execution_count": 67,
   "metadata": {},
   "outputs": [
    {
     "data": {
      "text/plain": [
       "486.91"
      ]
     },
     "execution_count": 67,
     "metadata": {},
     "output_type": "execute_result"
    }
   ],
   "source": [
    "StickerAlbum(purchased_stickers= 1000)"
   ]
  },
  {
   "cell_type": "code",
   "execution_count": 68,
   "metadata": {},
   "outputs": [],
   "source": [
    "y2 = []\n",
    "for i in range(1, 2001, 20):\n",
    "    result = StickerAlbum(purchased_stickers=i, sims = 10)\n",
    "    y2.append(result)"
   ]
  },
  {
   "cell_type": "code",
   "execution_count": 69,
   "metadata": {},
   "outputs": [
    {
     "data": {
      "text/plain": [
       "100"
      ]
     },
     "execution_count": 69,
     "metadata": {},
     "output_type": "execute_result"
    }
   ],
   "source": [
    "len(y2)"
   ]
  },
  {
   "cell_type": "code",
   "execution_count": 70,
   "metadata": {},
   "outputs": [
    {
     "data": {
      "image/png": "[encoded data removed]",
      "text/plain": [
       "<Figure size 864x432 with 1 Axes>"
      ]
     },
     "metadata": {},
     "output_type": "display_data"
    }
   ],
   "source": [
    "xmin, xmax = 0 , 2000\n",
    "ymin, ymax = 0 , 600\n",
    "\n",
    "plt.figure(figsize = (12,6))\n",
    "#plt.plot(range(1, 2001, 1),y)\n",
    "plt.plot(range(1, 2001, 20),y2)\n",
    "plt.axis((xmin,xmax,ymin,ymax))\n",
    "plt.hlines(550, xmin, xmax, color = \"red\", linestyle = \"--\")\n",
    "plt.vlines(1491, ymin, ymax, color = \"green\", linestyle = \"--\")\n",
    "plt.xlabel(\"Purchased Stickers\")\n",
    "plt.ylabel(\"Unique Stickers\")\n",
    "plt.title(\"Sticker Album Simulation (capacity = 600)\", fontsize = 15)\n",
    "plt.show()"
   ]
  },
  {
   "cell_type": "code",
   "execution_count": null,
   "metadata": {},
   "outputs": [],
   "source": []
  },
  {
   "cell_type": "code",
   "execution_count": null,
   "metadata": {},
   "outputs": [],
   "source": []
  },
  {
   "cell_type": "code",
   "execution_count": 71,
   "metadata": {},
   "outputs": [],
   "source": [
    "def optimize(album_capacity = 600, random_start = 800, sims = 10, seed = 123, \n",
    "             target = 550, learning_rate = 7, epochs = 20, tolerance = 0.5):\n",
    "    \n",
    "    for _ in range(epochs):\n",
    "        result = StickerAlbum(album_capacity = album_capacity, purchased_stickers = int(random_start), sims = sims, seed = seed)\n",
    "        delta = (result-target)\n",
    "        print(random_start, result)\n",
    "        if abs(delta)<tolerance:\n",
    "            break\n",
    "        else:\n",
    "            random_start -= round(learning_rate * delta)\n",
    "    return random_start, result"
   ]
  },
  {
   "cell_type": "markdown",
   "metadata": {},
   "source": [
    "###  Fine Tuning Default Parameters"
   ]
  },
  {
   "cell_type": "code",
   "execution_count": 72,
   "metadata": {},
   "outputs": [
    {
     "name": "stdout",
     "output_type": "stream",
     "text": [
      "800 444.7\n",
      "511 343.9\n",
      "423 301.4\n",
      "420 300.4\n"
     ]
    },
    {
     "data": {
      "text/plain": [
       "(420, 300.4)"
      ]
     },
     "execution_count": 72,
     "metadata": {},
     "output_type": "execute_result"
    }
   ],
   "source": [
    "optimize(album_capacity=600, target = 300, random_start= 800, learning_rate = 2) #does not work for smaller targets"
   ]
  },
  {
   "cell_type": "code",
   "execution_count": 73,
   "metadata": {},
   "outputs": [
    {
     "name": "stdout",
     "output_type": "stream",
     "text": [
      "800 444.7\n",
      "2303 588.8\n",
      "2365 590.2\n",
      "2413 590.7\n",
      "2456 591.2\n",
      "2494 591.5\n",
      "2529 591.9\n",
      "2560 592.3\n",
      "2587 592.6\n",
      "2611 592.5\n",
      "2636 593.6\n",
      "2650 594.1\n",
      "2659 594.2\n",
      "2667 594.3\n",
      "2674 594.4\n",
      "2680 594.4\n",
      "2686 594.6\n"
     ]
    },
    {
     "data": {
      "text/plain": [
       "(2686, 594.6)"
      ]
     },
     "execution_count": 73,
     "metadata": {},
     "output_type": "execute_result"
    }
   ],
   "source": [
    "optimize(album_capacity=600, target = 595, random_start= 800, learning_rate = 10, epochs = 20) #flat part of the curve"
   ]
  },
  {
   "cell_type": "code",
   "execution_count": 74,
   "metadata": {},
   "outputs": [
    {
     "name": "stdout",
     "output_type": "stream",
     "text": [
      "800 444.7\n",
      "1852 573.1\n",
      "2005 579.9\n",
      "2111 582.8\n",
      "2196 585.8\n",
      "2260 587.7\n",
      "2311 589.2\n",
      "2352 589.3\n",
      "2392 591.0\n",
      "2420 590.8\n",
      "2449 591.1\n",
      "2476 591.4\n",
      "2501 591.8\n",
      "2523 591.8\n",
      "2545 592.2\n",
      "2565 592.1\n",
      "2585 592.7\n",
      "2601 592.2\n",
      "2621 592.6\n",
      "2638 593.8\n",
      "2646 593.7\n",
      "2655 594.0\n",
      "2662 594.1\n",
      "2668 594.2\n",
      "2674 594.4\n",
      "2678 594.5\n",
      "2682 594.5\n",
      "2686 594.6\n"
     ]
    },
    {
     "data": {
      "text/plain": [
       "(2686, 594.6)"
      ]
     },
     "execution_count": 74,
     "metadata": {},
     "output_type": "execute_result"
    }
   ],
   "source": [
    "optimize(album_capacity=600, target = 595, random_start= 800, learning_rate = 7, epochs = 50) #flat part of the curve"
   ]
  },
  {
   "cell_type": "code",
   "execution_count": 75,
   "metadata": {},
   "outputs": [
    {
     "name": "stdout",
     "output_type": "stream",
     "text": [
      "3000 596.8\n",
      "2982 597.0\n",
      "2962 597.3\n",
      "2939 596.5\n",
      "2924 596.2\n",
      "2912 596.3\n",
      "2899 596.4\n",
      "2885 595.9\n",
      "2876 595.8\n",
      "2868 595.9\n",
      "2859 596.1\n",
      "2848 595.8\n",
      "2840 595.5\n",
      "2835 595.2\n"
     ]
    },
    {
     "data": {
      "text/plain": [
       "(2835, 595.2)"
      ]
     },
     "execution_count": 75,
     "metadata": {},
     "output_type": "execute_result"
    }
   ],
   "source": [
    "optimize(album_capacity=600, target = 595, random_start= 3000, learning_rate= 10) #random start at very flat part"
   ]
  },
  {
   "cell_type": "code",
   "execution_count": 76,
   "metadata": {},
   "outputs": [],
   "source": [
    "def optimize(album_capacity = 600, random_start_frac = 0.8, sims = 10, seed = 123, \n",
    "             target = 550, learning_rate = 4, epochs = 100, tolerance = 0.5):\n",
    "    \n",
    "    random_start = round(album_capacity * random_start_frac)\n",
    "    \n",
    "    for _ in range(epochs):\n",
    "        result = StickerAlbum(album_capacity = album_capacity, purchased_stickers = int(random_start), sims = sims, seed = seed)\n",
    "        delta = (result-target)\n",
    "        print(random_start, result)\n",
    "        if abs(delta)<tolerance:\n",
    "            break\n",
    "        else:\n",
    "            random_start -= round(learning_rate * delta)\n",
    "    return random_start, result"
   ]
  },
  {
   "cell_type": "code",
   "execution_count": 77,
   "metadata": {},
   "outputs": [
    {
     "name": "stdout",
     "output_type": "stream",
     "text": [
      "480 330.2\n",
      "1359 535.8\n",
      "1416 545.6\n",
      "1434 549.3\n",
      "1437 550.2\n"
     ]
    },
    {
     "data": {
      "text/plain": [
       "(1437, 550.2)"
      ]
     },
     "execution_count": 77,
     "metadata": {},
     "output_type": "execute_result"
    }
   ],
   "source": [
    "optimize(target = 550, learning_rate= 4)"
   ]
  },
  {
   "cell_type": "code",
   "execution_count": 78,
   "metadata": {},
   "outputs": [
    {
     "name": "stdout",
     "output_type": "stream",
     "text": [
      "480 330.2\n",
      "3168 597.5\n",
      "3183 597.5\n",
      "3198 597.4\n",
      "3214 597.6\n",
      "3228 597.9\n",
      "3239 598.0\n",
      "3249 598.1\n",
      "3258 598.4\n",
      "3264 598.5\n",
      "3269 598.5\n",
      "3274 598.5\n",
      "3279 598.6\n"
     ]
    },
    {
     "data": {
      "text/plain": [
       "(3279, 598.6)"
      ]
     },
     "execution_count": 78,
     "metadata": {},
     "output_type": "execute_result"
    }
   ],
   "source": [
    "optimize(album_capacity= 600, target = 599, learning_rate = 10) #very flat point of the curve"
   ]
  },
  {
   "cell_type": "code",
   "execution_count": 79,
   "metadata": {},
   "outputs": [
    {
     "name": "stdout",
     "output_type": "stream",
     "text": [
      "480 330.2\n",
      "1359 535.8\n",
      "1416 545.6\n",
      "1434 549.3\n",
      "1437 550.2\n"
     ]
    },
    {
     "data": {
      "text/plain": [
       "(1437, 550.2)"
      ]
     },
     "execution_count": 79,
     "metadata": {},
     "output_type": "execute_result"
    }
   ],
   "source": [
    "optimize(album_capacity= 600, target = 550, learning_rate = 4) #moderate point of the curve"
   ]
  },
  {
   "cell_type": "code",
   "execution_count": 80,
   "metadata": {},
   "outputs": [
    {
     "name": "stdout",
     "output_type": "stream",
     "text": [
      "480 330.2\n",
      "160 141.4\n",
      "29 28.6\n",
      "10 10.0\n"
     ]
    },
    {
     "data": {
      "text/plain": [
       "(10, 10.0)"
      ]
     },
     "execution_count": 80,
     "metadata": {},
     "output_type": "execute_result"
    }
   ],
   "source": [
    "optimize(album_capacity=600, target = 10, learning_rate = 1) #steep point of the curve"
   ]
  },
  {
   "cell_type": "code",
   "execution_count": 81,
   "metadata": {},
   "outputs": [
    {
     "name": "stdout",
     "output_type": "stream",
     "text": [
      "16 11.1\n",
      "48 18.4\n",
      "50 18.6\n",
      "52 18.6\n",
      "54 19.0\n"
     ]
    },
    {
     "data": {
      "text/plain": [
       "(54, 19.0)"
      ]
     },
     "execution_count": 81,
     "metadata": {},
     "output_type": "execute_result"
    }
   ],
   "source": [
    "optimize(album_capacity=20, target = 19, tolerance = 0.2, learning_rate = 4) #small album, flat point"
   ]
  },
  {
   "cell_type": "code",
   "execution_count": 82,
   "metadata": {},
   "outputs": [
    {
     "name": "stdout",
     "output_type": "stream",
     "text": [
      "16 11.1\n",
      "32 16.0\n",
      "28 15.3\n",
      "27 14.8\n"
     ]
    },
    {
     "data": {
      "text/plain": [
       "(27, 14.8)"
      ]
     },
     "execution_count": 82,
     "metadata": {},
     "output_type": "execute_result"
    }
   ],
   "source": [
    "optimize(album_capacity=20, target = 15, tolerance = 0.2, learning_rate = 4) # small album, moderate point"
   ]
  },
  {
   "cell_type": "code",
   "execution_count": 83,
   "metadata": {},
   "outputs": [
    {
     "name": "stdout",
     "output_type": "stream",
     "text": [
      "16 11.1963\n",
      "8 6.7296\n",
      "4 3.7115\n",
      "3 2.8589\n"
     ]
    },
    {
     "data": {
      "text/plain": [
       "(3, 2.8589)"
      ]
     },
     "execution_count": 83,
     "metadata": {},
     "output_type": "execute_result"
    }
   ],
   "source": [
    "optimize(album_capacity=20, target = 3, tolerance = 0.2, learning_rate= 1, sims = 10000) #small album, steep point"
   ]
  },
  {
   "cell_type": "code",
   "execution_count": 84,
   "metadata": {},
   "outputs": [
    {
     "name": "stdout",
     "output_type": "stream",
     "text": [
      "1600 1101.4\n",
      "10486 1989.2\n",
      "10494 1989.3\n",
      "10501 1989.0\n",
      "10511 1989.0\n",
      "10521 1989.2\n",
      "10529 1989.0\n",
      "10539 1989.1\n",
      "10548 1989.0\n",
      "10558 1989.0\n",
      "10568 1989.3\n",
      "10575 1989.8\n"
     ]
    },
    {
     "data": {
      "text/plain": [
       "(10575, 1989.8)"
      ]
     },
     "execution_count": 84,
     "metadata": {},
     "output_type": "execute_result"
    }
   ],
   "source": [
    "optimize(album_capacity=2000, target = 1990, learning_rate=10) #large album, flat point"
   ]
  },
  {
   "cell_type": "code",
   "execution_count": 85,
   "metadata": {},
   "outputs": [
    {
     "name": "stdout",
     "output_type": "stream",
     "text": [
      "1600 1101.4\n",
      "4394 1776.7\n",
      "4487 1785.7\n",
      "4544 1790.6\n",
      "4582 1798.0\n",
      "4590 1798.1\n",
      "4598 1800.2\n"
     ]
    },
    {
     "data": {
      "text/plain": [
       "(4598, 1800.2)"
      ]
     },
     "execution_count": 85,
     "metadata": {},
     "output_type": "execute_result"
    }
   ],
   "source": [
    "optimize(album_capacity=2000, target = 1800, learning_rate= 4) #large album, moderate point"
   ]
  },
  {
   "cell_type": "code",
   "execution_count": 86,
   "metadata": {},
   "outputs": [
    {
     "name": "stdout",
     "output_type": "stream",
     "text": [
      "1600 1101.4\n",
      "599 512.9\n",
      "186 178.1\n",
      "108 106.0\n",
      "102 99.4\n",
      "103 100.2\n"
     ]
    },
    {
     "data": {
      "text/plain": [
       "(103, 100.2)"
      ]
     },
     "execution_count": 86,
     "metadata": {},
     "output_type": "execute_result"
    }
   ],
   "source": [
    "optimize(album_capacity=2000, target = 100, learning_rate= 1) #large album, steep point"
   ]
  },
  {
   "cell_type": "code",
   "execution_count": 87,
   "metadata": {},
   "outputs": [],
   "source": [
    "def optimize(album_capacity = 600, random_start_frac = 0.8, sims = 10, seed = 123, \n",
    "             target = 550, learning_rate = 4, epochs = 100, tolerance = 0.5):\n",
    "    \n",
    "    random_start = round(album_capacity * random_start_frac)\n",
    "    \n",
    "    for _ in range(epochs):\n",
    "        result = StickerAlbum(album_capacity = album_capacity, purchased_stickers = int(random_start), sims = sims, seed = seed)\n",
    "        delta = (result-target)\n",
    "        #print(random_start, result)\n",
    "        if abs(delta)<tolerance:\n",
    "            break\n",
    "        else:\n",
    "            random_start -= round(learning_rate * delta)\n",
    "    return random_start, result"
   ]
  },
  {
   "cell_type": "code",
   "execution_count": null,
   "metadata": {},
   "outputs": [],
   "source": []
  },
  {
   "cell_type": "code",
   "execution_count": 88,
   "metadata": {},
   "outputs": [
    {
     "data": {
      "text/plain": [
       "(756, 325.96)"
      ]
     },
     "execution_count": 88,
     "metadata": {},
     "output_type": "execute_result"
    }
   ],
   "source": [
    "optimize(album_capacity= 376, target= 326, sims = 1000, tolerance = 0.1)"
   ]
  },
  {
   "cell_type": "markdown",
   "metadata": {},
   "source": [
    "# See you in the Numpy Section!!!"
   ]
  }
 ],
 "metadata": {
  "kernelspec": {
   "display_name": "Python 3",
   "language": "python",
   "name": "python3"
  },
  "language_info": {
   "codemirror_mode": {
    "name": "ipython",
    "version": 3
   },
   "file_extension": ".py",
   "mimetype": "text/x-python",
   "name": "python",
   "nbconvert_exporter": "python",
   "pygments_lexer": "ipython3",
   "version": "3.7.0"
  }
 },
 "nbformat": 4,
 "nbformat_minor": 2
}
